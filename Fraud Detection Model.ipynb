{
 "cells": [
  {
   "cell_type": "markdown",
   "id": "9e8c0ec3-9998-47a4-985a-cc5e462e5235",
   "metadata": {},
   "source": [
    "# Advanced Data Science Project || By Ansh Dugar"
   ]
  },
  {
   "cell_type": "markdown",
   "id": "d8ad9424-d3d9-4a39-9815-fa2f3ca1b752",
   "metadata": {},
   "source": [
    "### Topic: **Fraudulent Transaction Prediction using Machine Learning Alogrithms with HyperParameter Tuning**"
   ]
  },
  {
   "cell_type": "markdown",
   "id": "2295f77a-50bd-48b9-bb30-c033336eddbf",
   "metadata": {},
   "source": [
    "# Data Extraction"
   ]
  },
  {
   "cell_type": "markdown",
   "id": "320e1be1-cb31-4683-b976-b31f3e56c0e8",
   "metadata": {},
   "source": [
    "#### We first import all the required Libraries"
   ]
  },
  {
   "cell_type": "code",
   "execution_count": 1,
   "id": "a5076b37-09f9-4c02-be6e-28a41ace454c",
   "metadata": {},
   "outputs": [],
   "source": [
    "import numpy as np\n",
    "import pandas as pd\n",
    "import matplotlib.pyplot as plt\n",
    "import seaborn as sns\n",
    "from sklearn.preprocessing import StandardScaler\n",
    "from sklearn.model_selection import train_test_split\n",
    "from sklearn.ensemble import RandomForestClassifier\n",
    "from sklearn.tree import DecisionTreeClassifier\n",
    "import itertools\n",
    "from collections import Counter\n",
    "import sklearn.metrics as metrics\n",
    "from sklearn.metrics import classification_report, confusion_matrix, ConfusionMatrixDisplay, accuracy_score\n",
    "from imblearn.over_sampling import SMOTE\n",
    "from sklearn.model_selection import GridSearchCV\n",
    "from sklearn.metrics import f1_score\n",
    "from statsmodels.stats.outliers_influence import variance_inflation_factor\n",
    "from sklearn.linear_model import LogisticRegression\n",
    "from sklearn.metrics import accuracy_score\n",
    "from sklearn.metrics import make_scorer, roc_auc_score\n",
    "from sklearn.preprocessing import LabelEncoder\n",
    "from sklearn.metrics import precision_recall_curve\n",
    "from sklearn.metrics import auc\n",
    "import xgboost as xgb\n",
    "from sklearn.model_selection import RandomizedSearchCV"
   ]
  },
  {
   "cell_type": "markdown",
   "id": "6cb07280-9bfc-4b2c-98ba-576999eb77e9",
   "metadata": {},
   "source": [
    "#### Using Pandas we now read the Data using read_csv which helps us read csv files with ease"
   ]
  },
  {
   "cell_type": "code",
   "execution_count": 2,
   "id": "b6e44e08-74c5-40ca-824c-320ec755ba32",
   "metadata": {},
   "outputs": [
    {
     "data": {
      "text/html": [
       "<div>\n",
       "<style scoped>\n",
       "    .dataframe tbody tr th:only-of-type {\n",
       "        vertical-align: middle;\n",
       "    }\n",
       "\n",
       "    .dataframe tbody tr th {\n",
       "        vertical-align: top;\n",
       "    }\n",
       "\n",
       "    .dataframe thead th {\n",
       "        text-align: right;\n",
       "    }\n",
       "</style>\n",
       "<table border=\"1\" class=\"dataframe\">\n",
       "  <thead>\n",
       "    <tr style=\"text-align: right;\">\n",
       "      <th></th>\n",
       "      <th>step</th>\n",
       "      <th>type</th>\n",
       "      <th>amount</th>\n",
       "      <th>nameOrig</th>\n",
       "      <th>oldbalanceOrg</th>\n",
       "      <th>newbalanceOrig</th>\n",
       "      <th>nameDest</th>\n",
       "      <th>oldbalanceDest</th>\n",
       "      <th>newbalanceDest</th>\n",
       "      <th>isFraud</th>\n",
       "      <th>isFlaggedFraud</th>\n",
       "    </tr>\n",
       "  </thead>\n",
       "  <tbody>\n",
       "    <tr>\n",
       "      <th>0</th>\n",
       "      <td>1</td>\n",
       "      <td>PAYMENT</td>\n",
       "      <td>9839.64</td>\n",
       "      <td>C1231006815</td>\n",
       "      <td>170136.0</td>\n",
       "      <td>160296.36</td>\n",
       "      <td>M1979787155</td>\n",
       "      <td>0.0</td>\n",
       "      <td>0.0</td>\n",
       "      <td>0</td>\n",
       "      <td>0</td>\n",
       "    </tr>\n",
       "    <tr>\n",
       "      <th>1</th>\n",
       "      <td>1</td>\n",
       "      <td>PAYMENT</td>\n",
       "      <td>1864.28</td>\n",
       "      <td>C1666544295</td>\n",
       "      <td>21249.0</td>\n",
       "      <td>19384.72</td>\n",
       "      <td>M2044282225</td>\n",
       "      <td>0.0</td>\n",
       "      <td>0.0</td>\n",
       "      <td>1</td>\n",
       "      <td>0</td>\n",
       "    </tr>\n",
       "    <tr>\n",
       "      <th>2</th>\n",
       "      <td>1</td>\n",
       "      <td>TRANSFER</td>\n",
       "      <td>181.00</td>\n",
       "      <td>C1305486145</td>\n",
       "      <td>181.0</td>\n",
       "      <td>0.00</td>\n",
       "      <td>C553264065</td>\n",
       "      <td>0.0</td>\n",
       "      <td>0.0</td>\n",
       "      <td>1</td>\n",
       "      <td>1</td>\n",
       "    </tr>\n",
       "    <tr>\n",
       "      <th>3</th>\n",
       "      <td>1</td>\n",
       "      <td>CASH_OUT</td>\n",
       "      <td>181.00</td>\n",
       "      <td>C840083671</td>\n",
       "      <td>181.0</td>\n",
       "      <td>0.00</td>\n",
       "      <td>C38997010</td>\n",
       "      <td>21182.0</td>\n",
       "      <td>0.0</td>\n",
       "      <td>0</td>\n",
       "      <td>0</td>\n",
       "    </tr>\n",
       "    <tr>\n",
       "      <th>4</th>\n",
       "      <td>1</td>\n",
       "      <td>PAYMENT</td>\n",
       "      <td>11668.14</td>\n",
       "      <td>C2048537720</td>\n",
       "      <td>41554.0</td>\n",
       "      <td>29885.86</td>\n",
       "      <td>M1230701703</td>\n",
       "      <td>0.0</td>\n",
       "      <td>0.0</td>\n",
       "      <td>1</td>\n",
       "      <td>1</td>\n",
       "    </tr>\n",
       "  </tbody>\n",
       "</table>\n",
       "</div>"
      ],
      "text/plain": [
       "   step      type    amount     nameOrig  oldbalanceOrg  newbalanceOrig  \\\n",
       "0     1   PAYMENT   9839.64  C1231006815       170136.0       160296.36   \n",
       "1     1   PAYMENT   1864.28  C1666544295        21249.0        19384.72   \n",
       "2     1  TRANSFER    181.00  C1305486145          181.0            0.00   \n",
       "3     1  CASH_OUT    181.00   C840083671          181.0            0.00   \n",
       "4     1   PAYMENT  11668.14  C2048537720        41554.0        29885.86   \n",
       "\n",
       "      nameDest  oldbalanceDest  newbalanceDest  isFraud  isFlaggedFraud  \n",
       "0  M1979787155             0.0             0.0        0               0  \n",
       "1  M2044282225             0.0             0.0        1               0  \n",
       "2   C553264065             0.0             0.0        1               1  \n",
       "3    C38997010         21182.0             0.0        0               0  \n",
       "4  M1230701703             0.0             0.0        1               1  "
      ]
     },
     "execution_count": 2,
     "metadata": {},
     "output_type": "execute_result"
    }
   ],
   "source": [
    "df = pd.read_csv(\"Fraud_Data.csv\")\n",
    "df.head()"
   ]
  },
  {
   "cell_type": "markdown",
   "id": "a8b6a364-d04b-4c19-8af4-b504d6feed42",
   "metadata": {},
   "source": [
    "# Data Exploration and Cleaning"
   ]
  },
  {
   "cell_type": "markdown",
   "id": "6a74eb0b-9eab-48f8-9470-f385e125dc46",
   "metadata": {},
   "source": [
    "#### Checking the shape of the dataset"
   ]
  },
  {
   "cell_type": "code",
   "execution_count": 3,
   "id": "e90a2fad-ad10-49b8-91e8-b06fe85a0cee",
   "metadata": {},
   "outputs": [
    {
     "data": {
      "text/plain": [
       "(6362620, 11)"
      ]
     },
     "execution_count": 3,
     "metadata": {},
     "output_type": "execute_result"
    }
   ],
   "source": [
    "df.shape"
   ]
  },
  {
   "cell_type": "markdown",
   "id": "fc8b2484-9819-4d07-99fd-0474d79e549e",
   "metadata": {},
   "source": [
    "#### Checking the info of the dataset"
   ]
  },
  {
   "cell_type": "code",
   "execution_count": 4,
   "id": "9d342979-a7b6-4e0c-806a-2f99009bb247",
   "metadata": {},
   "outputs": [
    {
     "name": "stdout",
     "output_type": "stream",
     "text": [
      "<class 'pandas.core.frame.DataFrame'>\n",
      "RangeIndex: 6362620 entries, 0 to 6362619\n",
      "Data columns (total 11 columns):\n",
      " #   Column          Dtype  \n",
      "---  ------          -----  \n",
      " 0   step            int64  \n",
      " 1   type            object \n",
      " 2   amount          float64\n",
      " 3   nameOrig        object \n",
      " 4   oldbalanceOrg   float64\n",
      " 5   newbalanceOrig  float64\n",
      " 6   nameDest        object \n",
      " 7   oldbalanceDest  float64\n",
      " 8   newbalanceDest  float64\n",
      " 9   isFraud         int64  \n",
      " 10  isFlaggedFraud  int64  \n",
      "dtypes: float64(5), int64(3), object(3)\n",
      "memory usage: 534.0+ MB\n"
     ]
    }
   ],
   "source": [
    "df.info()"
   ]
  },
  {
   "cell_type": "markdown",
   "id": "bdb87daa-7b10-4339-8ac5-bc1d5ebe2947",
   "metadata": {},
   "source": [
    "#### Describing the data"
   ]
  },
  {
   "cell_type": "code",
   "execution_count": 5,
   "id": "cae3a156-3971-4925-8283-1700ec939fd2",
   "metadata": {},
   "outputs": [
    {
     "data": {
      "text/html": [
       "<div>\n",
       "<style scoped>\n",
       "    .dataframe tbody tr th:only-of-type {\n",
       "        vertical-align: middle;\n",
       "    }\n",
       "\n",
       "    .dataframe tbody tr th {\n",
       "        vertical-align: top;\n",
       "    }\n",
       "\n",
       "    .dataframe thead th {\n",
       "        text-align: right;\n",
       "    }\n",
       "</style>\n",
       "<table border=\"1\" class=\"dataframe\">\n",
       "  <thead>\n",
       "    <tr style=\"text-align: right;\">\n",
       "      <th></th>\n",
       "      <th>count</th>\n",
       "      <th>mean</th>\n",
       "      <th>std</th>\n",
       "      <th>min</th>\n",
       "      <th>25%</th>\n",
       "      <th>50%</th>\n",
       "      <th>75%</th>\n",
       "      <th>max</th>\n",
       "    </tr>\n",
       "  </thead>\n",
       "  <tbody>\n",
       "    <tr>\n",
       "      <th>step</th>\n",
       "      <td>6362620.0</td>\n",
       "      <td>2.433972e+02</td>\n",
       "      <td>1.423320e+02</td>\n",
       "      <td>1.0</td>\n",
       "      <td>156.00</td>\n",
       "      <td>239.000</td>\n",
       "      <td>3.350000e+02</td>\n",
       "      <td>7.430000e+02</td>\n",
       "    </tr>\n",
       "    <tr>\n",
       "      <th>amount</th>\n",
       "      <td>6362620.0</td>\n",
       "      <td>1.798619e+05</td>\n",
       "      <td>6.038582e+05</td>\n",
       "      <td>0.0</td>\n",
       "      <td>13389.57</td>\n",
       "      <td>74871.940</td>\n",
       "      <td>2.087215e+05</td>\n",
       "      <td>9.244552e+07</td>\n",
       "    </tr>\n",
       "    <tr>\n",
       "      <th>oldbalanceOrg</th>\n",
       "      <td>6362620.0</td>\n",
       "      <td>8.338831e+05</td>\n",
       "      <td>2.888243e+06</td>\n",
       "      <td>0.0</td>\n",
       "      <td>0.00</td>\n",
       "      <td>14208.000</td>\n",
       "      <td>1.073152e+05</td>\n",
       "      <td>5.958504e+07</td>\n",
       "    </tr>\n",
       "    <tr>\n",
       "      <th>newbalanceOrig</th>\n",
       "      <td>6362620.0</td>\n",
       "      <td>8.551137e+05</td>\n",
       "      <td>2.924049e+06</td>\n",
       "      <td>0.0</td>\n",
       "      <td>0.00</td>\n",
       "      <td>0.000</td>\n",
       "      <td>1.442584e+05</td>\n",
       "      <td>4.958504e+07</td>\n",
       "    </tr>\n",
       "    <tr>\n",
       "      <th>oldbalanceDest</th>\n",
       "      <td>6362620.0</td>\n",
       "      <td>1.100702e+06</td>\n",
       "      <td>3.399180e+06</td>\n",
       "      <td>0.0</td>\n",
       "      <td>0.00</td>\n",
       "      <td>132705.665</td>\n",
       "      <td>9.430367e+05</td>\n",
       "      <td>3.560159e+08</td>\n",
       "    </tr>\n",
       "    <tr>\n",
       "      <th>newbalanceDest</th>\n",
       "      <td>6362620.0</td>\n",
       "      <td>1.224996e+06</td>\n",
       "      <td>3.674129e+06</td>\n",
       "      <td>0.0</td>\n",
       "      <td>0.00</td>\n",
       "      <td>214661.440</td>\n",
       "      <td>1.111909e+06</td>\n",
       "      <td>3.561793e+08</td>\n",
       "    </tr>\n",
       "    <tr>\n",
       "      <th>isFraud</th>\n",
       "      <td>6362620.0</td>\n",
       "      <td>6.999448e-01</td>\n",
       "      <td>4.582817e-01</td>\n",
       "      <td>0.0</td>\n",
       "      <td>0.00</td>\n",
       "      <td>1.000</td>\n",
       "      <td>1.000000e+00</td>\n",
       "      <td>1.000000e+00</td>\n",
       "    </tr>\n",
       "    <tr>\n",
       "      <th>isFlaggedFraud</th>\n",
       "      <td>6362620.0</td>\n",
       "      <td>2.999807e-01</td>\n",
       "      <td>4.582492e-01</td>\n",
       "      <td>0.0</td>\n",
       "      <td>0.00</td>\n",
       "      <td>0.000</td>\n",
       "      <td>1.000000e+00</td>\n",
       "      <td>1.000000e+00</td>\n",
       "    </tr>\n",
       "  </tbody>\n",
       "</table>\n",
       "</div>"
      ],
      "text/plain": [
       "                    count          mean           std  min       25%  \\\n",
       "step            6362620.0  2.433972e+02  1.423320e+02  1.0    156.00   \n",
       "amount          6362620.0  1.798619e+05  6.038582e+05  0.0  13389.57   \n",
       "oldbalanceOrg   6362620.0  8.338831e+05  2.888243e+06  0.0      0.00   \n",
       "newbalanceOrig  6362620.0  8.551137e+05  2.924049e+06  0.0      0.00   \n",
       "oldbalanceDest  6362620.0  1.100702e+06  3.399180e+06  0.0      0.00   \n",
       "newbalanceDest  6362620.0  1.224996e+06  3.674129e+06  0.0      0.00   \n",
       "isFraud         6362620.0  6.999448e-01  4.582817e-01  0.0      0.00   \n",
       "isFlaggedFraud  6362620.0  2.999807e-01  4.582492e-01  0.0      0.00   \n",
       "\n",
       "                       50%           75%           max  \n",
       "step               239.000  3.350000e+02  7.430000e+02  \n",
       "amount           74871.940  2.087215e+05  9.244552e+07  \n",
       "oldbalanceOrg    14208.000  1.073152e+05  5.958504e+07  \n",
       "newbalanceOrig       0.000  1.442584e+05  4.958504e+07  \n",
       "oldbalanceDest  132705.665  9.430367e+05  3.560159e+08  \n",
       "newbalanceDest  214661.440  1.111909e+06  3.561793e+08  \n",
       "isFraud              1.000  1.000000e+00  1.000000e+00  \n",
       "isFlaggedFraud       0.000  1.000000e+00  1.000000e+00  "
      ]
     },
     "execution_count": 5,
     "metadata": {},
     "output_type": "execute_result"
    }
   ],
   "source": [
    "df.describe().transpose()"
   ]
  },
  {
   "cell_type": "markdown",
   "id": "ded5ad5e-8ee2-4b4f-a659-b4d98486d4a5",
   "metadata": {},
   "source": [
    "#### Now Checking for any Null Values"
   ]
  },
  {
   "cell_type": "code",
   "execution_count": 6,
   "id": "e6f2cf65-9b8a-46d6-93c9-a2ae058ae5db",
   "metadata": {},
   "outputs": [
    {
     "data": {
      "text/plain": [
       "step              0\n",
       "type              0\n",
       "amount            0\n",
       "nameOrig          0\n",
       "oldbalanceOrg     0\n",
       "newbalanceOrig    0\n",
       "nameDest          0\n",
       "oldbalanceDest    0\n",
       "newbalanceDest    0\n",
       "isFraud           0\n",
       "isFlaggedFraud    0\n",
       "dtype: int64"
      ]
     },
     "execution_count": 6,
     "metadata": {},
     "output_type": "execute_result"
    }
   ],
   "source": [
    "df.isnull().sum()"
   ]
  },
  {
   "cell_type": "markdown",
   "id": "306052d4-6d27-4ab1-bf47-e3c41288c0d9",
   "metadata": {},
   "source": [
    "#### Checking the correlation between the variables with the target variable"
   ]
  },
  {
   "cell_type": "code",
   "execution_count": 7,
   "id": "00c4e8f8-6ac1-43b9-a8a7-119f95986c2f",
   "metadata": {},
   "outputs": [
    {
     "data": {
      "text/plain": [
       "newbalanceDest   -0.000225\n",
       "oldbalanceDest   -0.000204\n",
       "isFlaggedFraud   -0.000077\n",
       "newbalanceOrig   -0.000052\n",
       "oldbalanceOrg    -0.000038\n",
       "amount            0.000017\n",
       "step              0.000502\n",
       "isFraud           1.000000\n",
       "Name: isFraud, dtype: float64"
      ]
     },
     "execution_count": 7,
     "metadata": {},
     "output_type": "execute_result"
    }
   ],
   "source": [
    "df.corr()[\"isFraud\"].sort_values()"
   ]
  },
  {
   "cell_type": "markdown",
   "id": "9a5b14c0-4232-4cb3-80b8-d4c1b6301a22",
   "metadata": {},
   "source": [
    "#### Heatmap of the correlation between the variables with the target variable"
   ]
  },
  {
   "cell_type": "code",
   "execution_count": 8,
   "id": "7a58833f-7ca1-418a-b015-8125e4980ec3",
   "metadata": {},
   "outputs": [
    {
     "data": {
      "text/plain": [
       "[Text(0.5, 1.0, 'Correlation Plot')]"
      ]
     },
     "execution_count": 8,
     "metadata": {},
     "output_type": "execute_result"
    },
    {
     "data": {
      "image/png": "[encoded data removed]",
      "text/plain": [
       "<Figure size 864x576 with 2 Axes>"
      ]
     },
     "metadata": {
      "needs_background": "light"
     },
     "output_type": "display_data"
    }
   ],
   "source": [
    "plt.figure(figsize=(12,8))\n",
    "sns.heatmap(df.corr(), annot=True).set(title='Correlation Plot')"
   ]
  },
  {
   "cell_type": "markdown",
   "id": "e5688a45-d618-493a-9ca4-27541aa415d6",
   "metadata": {},
   "source": [
    "#### Checking the value counts in the target Variable\n",
    "Here our target variable is the isfraud Column"
   ]
  },
  {
   "cell_type": "code",
   "execution_count": 9,
   "id": "0912e694-0a2f-4a79-a4eb-f801891a7369",
   "metadata": {},
   "outputs": [
    {
     "data": {
      "text/plain": [
       "1    4453483\n",
       "0    1909137\n",
       "Name: isFraud, dtype: int64"
      ]
     },
     "execution_count": 9,
     "metadata": {},
     "output_type": "execute_result"
    }
   ],
   "source": [
    "target = \"isFraud\"\n",
    "df[target].value_counts()"
   ]
  },
  {
   "cell_type": "code",
   "execution_count": 10,
   "id": "36123d16-f686-4200-aa11-48cf2d565c87",
   "metadata": {},
   "outputs": [
    {
     "name": "stderr",
     "output_type": "stream",
     "text": [
      "/Users/manavhirey/opt/anaconda3/lib/python3.9/site-packages/seaborn/_decorators.py:36: FutureWarning: Pass the following variable as a keyword arg: x. From version 0.12, the only valid positional argument will be `data`, and passing other arguments without an explicit keyword will result in an error or misinterpretation.\n",
      "  warnings.warn(\n"
     ]
    },
    {
     "data": {
      "text/plain": [
       "[Text(0.5, 1.0, 'Fraud vs Non-Fraud Transactions')]"
      ]
     },
     "execution_count": 10,
     "metadata": {},
     "output_type": "execute_result"
    },
    {
     "data": {
      "image/png": "[encoded data removed]",
      "text/plain": [
       "<Figure size 432x288 with 1 Axes>"
      ]
     },
     "metadata": {
      "needs_background": "light"
     },
     "output_type": "display_data"
    }
   ],
   "source": [
    "sns.countplot(df[target]).set(title='Fraud vs Non-Fraud Transactions')"
   ]
  },
  {
   "cell_type": "markdown",
   "id": "4c6c0d97-4d5b-4dcd-93ad-77891a82aa58",
   "metadata": {},
   "source": [
    "#### Visualizing the number of transactions per type"
   ]
  },
  {
   "cell_type": "code",
   "execution_count": 11,
   "id": "35dd7519-482b-428f-973a-9dd12844d134",
   "metadata": {},
   "outputs": [
    {
     "data": {
      "text/plain": [
       "[Text(0.5, 1.0, 'No of Transactions')]"
      ]
     },
     "execution_count": 11,
     "metadata": {},
     "output_type": "execute_result"
    },
    {
     "data": {
      "image/png": "[encoded data removed]",
      "text/plain": [
       "<Figure size 864x576 with 1 Axes>"
      ]
     },
     "metadata": {
      "needs_background": "light"
     },
     "output_type": "display_data"
    }
   ],
   "source": [
    "plt.figure(figsize=(12,8))\n",
    "sns.countplot(x=\"type\", data=df,hue=target , palette=\"Set1\").set(title='No of Transactions')"
   ]
  },
  {
   "cell_type": "markdown",
   "id": "da64ed87-52fc-4023-930f-e3c11372fea6",
   "metadata": {},
   "source": [
    "#### Previously when we checked for dtypes in the dataset we found that we have 3 Objects which we will have to convert"
   ]
  },
  {
   "cell_type": "code",
   "execution_count": 12,
   "id": "9fa9919a-887b-496f-9e35-9b1e926154c7",
   "metadata": {},
   "outputs": [
    {
     "name": "stdout",
     "output_type": "stream",
     "text": [
      "Index(['type', 'nameOrig', 'nameDest'], dtype='object')\n"
     ]
    }
   ],
   "source": [
    "objList = df.select_dtypes(include = \"object\").columns\n",
    "print (objList)"
   ]
  },
  {
   "cell_type": "markdown",
   "id": "d655a37d-4067-43eb-b2ab-227ee121d235",
   "metadata": {},
   "source": [
    "#### Here we use labelEncoder to convert them\n",
    "Label Encoding is a popular encoding technique for handling categorical variables."
   ]
  },
  {
   "cell_type": "code",
   "execution_count": 13,
   "id": "0208b9b8-cc9a-43a9-99dc-d00fe6a113ff",
   "metadata": {},
   "outputs": [],
   "source": [
    "le = LabelEncoder()\n",
    "for feat in objList:\n",
    "    df[feat] = le.fit_transform(df[feat].astype(str))"
   ]
  },
  {
   "cell_type": "markdown",
   "id": "79cc5580-2ca9-4e84-90b9-45cccf8a64f7",
   "metadata": {},
   "source": [
    "#### We recheck it"
   ]
  },
  {
   "cell_type": "code",
   "execution_count": 14,
   "id": "f8743f06-e40e-4b1d-a1db-f2d697362174",
   "metadata": {},
   "outputs": [
    {
     "name": "stdout",
     "output_type": "stream",
     "text": [
      "<class 'pandas.core.frame.DataFrame'>\n",
      "RangeIndex: 6362620 entries, 0 to 6362619\n",
      "Data columns (total 11 columns):\n",
      " #   Column          Dtype  \n",
      "---  ------          -----  \n",
      " 0   step            int64  \n",
      " 1   type            int64  \n",
      " 2   amount          float64\n",
      " 3   nameOrig        int64  \n",
      " 4   oldbalanceOrg   float64\n",
      " 5   newbalanceOrig  float64\n",
      " 6   nameDest        int64  \n",
      " 7   oldbalanceDest  float64\n",
      " 8   newbalanceDest  float64\n",
      " 9   isFraud         int64  \n",
      " 10  isFlaggedFraud  int64  \n",
      "dtypes: float64(5), int64(6)\n",
      "memory usage: 534.0 MB\n",
      "None\n"
     ]
    }
   ],
   "source": [
    "print (df.info())"
   ]
  },
  {
   "cell_type": "markdown",
   "id": "f702a59e-a568-42b4-8276-52153519d73f",
   "metadata": {},
   "source": [
    "#### Now we calculate the Variance Inflation Factor and drop certain columns accordingly\n",
    "A variance inflation factor (VIF) is a measure of the amount of multicollinearity in regression analysis. Multicollinearity exists when there is a correlation between multiple independent variables in a multiple regression model."
   ]
  },
  {
   "cell_type": "code",
   "execution_count": 15,
   "id": "9f2f2175-1cc4-469c-9c25-6d984d7da038",
   "metadata": {},
   "outputs": [
    {
     "data": {
      "text/html": [
       "<div>\n",
       "<style scoped>\n",
       "    .dataframe tbody tr th:only-of-type {\n",
       "        vertical-align: middle;\n",
       "    }\n",
       "\n",
       "    .dataframe tbody tr th {\n",
       "        vertical-align: top;\n",
       "    }\n",
       "\n",
       "    .dataframe thead th {\n",
       "        text-align: right;\n",
       "    }\n",
       "</style>\n",
       "<table border=\"1\" class=\"dataframe\">\n",
       "  <thead>\n",
       "    <tr style=\"text-align: right;\">\n",
       "      <th></th>\n",
       "      <th>variables</th>\n",
       "      <th>VIF</th>\n",
       "    </tr>\n",
       "  </thead>\n",
       "  <tbody>\n",
       "    <tr>\n",
       "      <th>0</th>\n",
       "      <td>step</td>\n",
       "      <td>3.037123</td>\n",
       "    </tr>\n",
       "    <tr>\n",
       "      <th>1</th>\n",
       "      <td>type</td>\n",
       "      <td>4.585757</td>\n",
       "    </tr>\n",
       "    <tr>\n",
       "      <th>2</th>\n",
       "      <td>amount</td>\n",
       "      <td>4.085677</td>\n",
       "    </tr>\n",
       "    <tr>\n",
       "      <th>3</th>\n",
       "      <td>nameOrig</td>\n",
       "      <td>3.036091</td>\n",
       "    </tr>\n",
       "    <tr>\n",
       "      <th>4</th>\n",
       "      <td>oldbalanceOrg</td>\n",
       "      <td>493.070624</td>\n",
       "    </tr>\n",
       "    <tr>\n",
       "      <th>5</th>\n",
       "      <td>newbalanceOrig</td>\n",
       "      <td>498.452626</td>\n",
       "    </tr>\n",
       "    <tr>\n",
       "      <th>6</th>\n",
       "      <td>nameDest</td>\n",
       "      <td>3.307896</td>\n",
       "    </tr>\n",
       "    <tr>\n",
       "      <th>7</th>\n",
       "      <td>oldbalanceDest</td>\n",
       "      <td>72.444384</td>\n",
       "    </tr>\n",
       "    <tr>\n",
       "      <th>8</th>\n",
       "      <td>newbalanceDest</td>\n",
       "      <td>83.862187</td>\n",
       "    </tr>\n",
       "    <tr>\n",
       "      <th>9</th>\n",
       "      <td>isFraud</td>\n",
       "      <td>2.709923</td>\n",
       "    </tr>\n",
       "    <tr>\n",
       "      <th>10</th>\n",
       "      <td>isFlaggedFraud</td>\n",
       "      <td>1.379296</td>\n",
       "    </tr>\n",
       "  </tbody>\n",
       "</table>\n",
       "</div>"
      ],
      "text/plain": [
       "         variables         VIF\n",
       "0             step    3.037123\n",
       "1             type    4.585757\n",
       "2           amount    4.085677\n",
       "3         nameOrig    3.036091\n",
       "4    oldbalanceOrg  493.070624\n",
       "5   newbalanceOrig  498.452626\n",
       "6         nameDest    3.307896\n",
       "7   oldbalanceDest   72.444384\n",
       "8   newbalanceDest   83.862187\n",
       "9          isFraud    2.709923\n",
       "10  isFlaggedFraud    1.379296"
      ]
     },
     "execution_count": 15,
     "metadata": {},
     "output_type": "execute_result"
    }
   ],
   "source": [
    "def calc_vif(df):\n",
    "    vif = pd.DataFrame()\n",
    "    vif[\"variables\"] = df.columns\n",
    "    vif[\"VIF\"] = [variance_inflation_factor(df.values, i) for i in range(df.shape[1])]\n",
    "\n",
    "    return(vif)\n",
    "\n",
    "calc_vif(df)"
   ]
  },
  {
   "cell_type": "markdown",
   "id": "726bd370-4dac-491d-9b4c-c8da2a8aa178",
   "metadata": {},
   "source": [
    "#### Dropping the highest valued VIF and then creating 3 new columns to check the Frauds so that the VIF decreases"
   ]
  },
  {
   "cell_type": "code",
   "execution_count": 16,
   "id": "2057998c-6a6a-47c2-b14f-7b408e8377f6",
   "metadata": {},
   "outputs": [
    {
     "data": {
      "text/html": [
       "<div>\n",
       "<style scoped>\n",
       "    .dataframe tbody tr th:only-of-type {\n",
       "        vertical-align: middle;\n",
       "    }\n",
       "\n",
       "    .dataframe tbody tr th {\n",
       "        vertical-align: top;\n",
       "    }\n",
       "\n",
       "    .dataframe thead th {\n",
       "        text-align: right;\n",
       "    }\n",
       "</style>\n",
       "<table border=\"1\" class=\"dataframe\">\n",
       "  <thead>\n",
       "    <tr style=\"text-align: right;\">\n",
       "      <th></th>\n",
       "      <th>variables</th>\n",
       "      <th>VIF</th>\n",
       "    </tr>\n",
       "  </thead>\n",
       "  <tbody>\n",
       "    <tr>\n",
       "      <th>0</th>\n",
       "      <td>type</td>\n",
       "      <td>2.829163</td>\n",
       "    </tr>\n",
       "    <tr>\n",
       "      <th>1</th>\n",
       "      <td>amount</td>\n",
       "      <td>3.780329</td>\n",
       "    </tr>\n",
       "    <tr>\n",
       "      <th>2</th>\n",
       "      <td>isFraud</td>\n",
       "      <td>2.467723</td>\n",
       "    </tr>\n",
       "    <tr>\n",
       "      <th>3</th>\n",
       "      <td>isFlaggedFraud</td>\n",
       "      <td>1.360399</td>\n",
       "    </tr>\n",
       "    <tr>\n",
       "      <th>4</th>\n",
       "      <td>Actual_amount_orig</td>\n",
       "      <td>1.137837</td>\n",
       "    </tr>\n",
       "    <tr>\n",
       "      <th>5</th>\n",
       "      <td>Actual_amount_dest</td>\n",
       "      <td>3.707364</td>\n",
       "    </tr>\n",
       "    <tr>\n",
       "      <th>6</th>\n",
       "      <td>TransactionPath</td>\n",
       "      <td>3.444433</td>\n",
       "    </tr>\n",
       "  </tbody>\n",
       "</table>\n",
       "</div>"
      ],
      "text/plain": [
       "            variables       VIF\n",
       "0                type  2.829163\n",
       "1              amount  3.780329\n",
       "2             isFraud  2.467723\n",
       "3      isFlaggedFraud  1.360399\n",
       "4  Actual_amount_orig  1.137837\n",
       "5  Actual_amount_dest  3.707364\n",
       "6     TransactionPath  3.444433"
      ]
     },
     "execution_count": 16,
     "metadata": {},
     "output_type": "execute_result"
    }
   ],
   "source": [
    "df['Actual_amount_orig'] = df.apply(lambda x: x['oldbalanceOrg'] - x['newbalanceOrig'],axis=1)\n",
    "df['Actual_amount_dest'] = df.apply(lambda x: x['oldbalanceDest'] - x['newbalanceDest'],axis=1)\n",
    "df['TransactionPath'] = df.apply(lambda x: x['nameOrig'] + x['nameDest'],axis=1)\n",
    "\n",
    "#Dropping columns\n",
    "df = df.drop(['oldbalanceOrg','newbalanceOrig','oldbalanceDest','newbalanceDest','step','nameOrig','nameDest'],axis=1)\n",
    "\n",
    "calc_vif(df)"
   ]
  },
  {
   "cell_type": "markdown",
   "id": "df930c93-92a9-42fe-9598-6cb04d4a5b67",
   "metadata": {},
   "source": [
    "#### Scaling the Dataset using Standard Scaling"
   ]
  },
  {
   "cell_type": "markdown",
   "id": "a4752b8e-5d0a-43e0-8bb8-f35f2b5122b0",
   "metadata": {},
   "source": [
    "Standardization is a scaling technique wherein it makes the data scale-free by converting the statistical distribution of the data into the below format: mean - 0 (zero) standard deviation - 1."
   ]
  },
  {
   "cell_type": "code",
   "execution_count": 17,
   "id": "de61126a-a04c-4a7f-93d0-edcc22d57a6c",
   "metadata": {},
   "outputs": [],
   "source": [
    "scaler = StandardScaler()\n",
    "df[\"NormalizedAmount\"] = scaler.fit_transform(df[\"amount\"].values.reshape(-1, 1))\n",
    "df.drop([\"amount\"], inplace= True, axis= 1)"
   ]
  },
  {
   "cell_type": "markdown",
   "id": "3d623182-6945-4a5c-8501-c71f5c22c451",
   "metadata": {},
   "source": [
    "#### Chosing X and Y values "
   ]
  },
  {
   "cell_type": "code",
   "execution_count": 18,
   "id": "50cce21d-662c-4e0f-8ab3-4c1e57c974be",
   "metadata": {},
   "outputs": [],
   "source": [
    "y = df[\"isFraud\"]\n",
    "x = df.drop([\"isFraud\"], axis= 1)"
   ]
  },
  {
   "cell_type": "markdown",
   "id": "79093e04-4c75-4616-a74b-0856ac6bde1c",
   "metadata": {},
   "source": [
    "#### Splitting the data into Test and Train using test_train_split"
   ]
  },
  {
   "cell_type": "code",
   "execution_count": 19,
   "id": "1851602b-b239-4716-99bb-4c2ad8a25d52",
   "metadata": {},
   "outputs": [
    {
     "name": "stdout",
     "output_type": "stream",
     "text": [
      "Shape of X_train:  (4453834, 6)\n",
      "Shape of X_test:  (1908786, 6)\n"
     ]
    }
   ],
   "source": [
    "(X_train, X_test, Y_train, Y_test) = train_test_split(x, y, test_size= 0.3, random_state= 42)\n",
    "\n",
    "print(\"Shape of X_train: \", X_train.shape)\n",
    "print(\"Shape of X_test: \", X_test.shape)"
   ]
  },
  {
   "cell_type": "markdown",
   "id": "023fcfb8-84c9-4958-b511-1567a1c4a7a7",
   "metadata": {},
   "source": [
    "# Developing Models"
   ]
  },
  {
   "cell_type": "markdown",
   "id": "eac8d67c-daf4-4779-ae83-c35e66894eea",
   "metadata": {},
   "source": [
    "## Algorithm 1 : **Logistic Regression**"
   ]
  },
  {
   "cell_type": "markdown",
   "id": "deb01725-41b5-4ea7-bf2e-de5411c46ce4",
   "metadata": {},
   "source": [
    "This type of statistical model (also known as logit model) is often used for classification and predictive analytics. Logistic regression estimates the probability of an event occurring, such as voted or didn’t vote, based on a given dataset of independent variables. "
   ]
  },
  {
   "cell_type": "markdown",
   "id": "517e31b1-5e8e-49bb-8d74-3a33cf8352db",
   "metadata": {},
   "source": [
    "#### Create a logistic regression object"
   ]
  },
  {
   "cell_type": "code",
   "execution_count": 20,
   "id": "c77cc197-b09a-42fa-bdc7-924b0e560e95",
   "metadata": {},
   "outputs": [],
   "source": [
    "lr = LogisticRegression()"
   ]
  },
  {
   "cell_type": "markdown",
   "id": "46793758-c083-428a-8e3c-d5653d32d152",
   "metadata": {},
   "source": [
    "#### Train the model on the training set"
   ]
  },
  {
   "cell_type": "code",
   "execution_count": 21,
   "id": "6dd60fb0-0e4a-4edd-a232-89dd8c1174be",
   "metadata": {},
   "outputs": [
    {
     "data": {
      "text/plain": [
       "LogisticRegression()"
      ]
     },
     "execution_count": 21,
     "metadata": {},
     "output_type": "execute_result"
    }
   ],
   "source": [
    "lr.fit(X_train, Y_train)"
   ]
  },
  {
   "cell_type": "markdown",
   "id": "0886a4e1-bc18-474d-b25c-d389e3886e6d",
   "metadata": {},
   "source": [
    "#### Now using the model we predict for both Testing and Training sets"
   ]
  },
  {
   "cell_type": "code",
   "execution_count": 22,
   "id": "c5319b72-857c-483b-9b7a-12436a206f68",
   "metadata": {},
   "outputs": [],
   "source": [
    "pred1 = lr.predict(X_train)\n",
    "pred2 = lr.predict(X_test)"
   ]
  },
  {
   "cell_type": "markdown",
   "id": "2e5985dd-d14b-4c94-b01f-ea9aead434d1",
   "metadata": {},
   "source": [
    "#### Finding the f1 scores"
   ]
  },
  {
   "cell_type": "markdown",
   "id": "546ebbdf-8489-4bcd-b27d-a9e643d1d05e",
   "metadata": {},
   "source": [
    "The F1 score is a popular performance measure for classification and often preferred over, for example, accuracy when data is unbalanced, such as when the quantity of examples belonging to one class significantly outnumbers those found in the other class."
   ]
  },
  {
   "cell_type": "markdown",
   "id": "f286cb40-caec-4b14-85dd-2157923afabd",
   "metadata": {},
   "source": [
    "We have a very unbalanced set of data thats why we used **F1-scores as Performance Metric for all out Algorithms**"
   ]
  },
  {
   "cell_type": "code",
   "execution_count": 23,
   "id": "ad83fc91-28eb-4fcc-8233-78fe3e7e0466",
   "metadata": {},
   "outputs": [],
   "source": [
    "f1_score_LR_train_initial = f1_score(Y_train, pred1)\n",
    "f1_score_LR_test_initial = f1_score(Y_test, pred2)"
   ]
  },
  {
   "cell_type": "code",
   "execution_count": 24,
   "id": "cc8ff8ef-b75f-44f2-bf58-d90ab1a1bd54",
   "metadata": {},
   "outputs": [
    {
     "data": {
      "text/plain": [
       "0.823265486740865"
      ]
     },
     "execution_count": 24,
     "metadata": {},
     "output_type": "execute_result"
    }
   ],
   "source": [
    "f1_score_LR_train_initial"
   ]
  },
  {
   "cell_type": "code",
   "execution_count": 25,
   "id": "eec6d8c0-cd2f-43ae-a81f-016eb10121f9",
   "metadata": {},
   "outputs": [
    {
     "data": {
      "text/plain": [
       "0.8231571553713193"
      ]
     },
     "execution_count": 25,
     "metadata": {},
     "output_type": "execute_result"
    }
   ],
   "source": [
    "f1_score_LR_test_initial"
   ]
  },
  {
   "cell_type": "markdown",
   "id": "240fc9b5-4cca-44c4-8801-a9f2339d8fe6",
   "metadata": {},
   "source": [
    "#### Accuracy before Hyperparameter Tuning"
   ]
  },
  {
   "cell_type": "code",
   "execution_count": 26,
   "id": "9ce1d1d7-cdf3-4561-8185-7d3f2f003fa8",
   "metadata": {},
   "outputs": [
    {
     "data": {
      "text/plain": [
       "0.6995299630236181"
      ]
     },
     "execution_count": 26,
     "metadata": {},
     "output_type": "execute_result"
    }
   ],
   "source": [
    "accuracy_LR_initial = accuracy_score(Y_test, pred2)\n",
    "accuracy_LR_initial"
   ]
  },
  {
   "cell_type": "markdown",
   "id": "902885d5-21ca-4278-8c30-cb9face25ed5",
   "metadata": {},
   "source": [
    "#### Classification Report"
   ]
  },
  {
   "cell_type": "code",
   "execution_count": 27,
   "id": "4a61fbde-8f56-428e-9b1f-914225a316b4",
   "metadata": {},
   "outputs": [
    {
     "name": "stdout",
     "output_type": "stream",
     "text": [
      "              precision    recall  f1-score   support\n",
      "\n",
      "           0       0.30      0.00      0.00   1336178\n",
      "           1       0.70      1.00      0.82   3117656\n",
      "\n",
      "    accuracy                           0.70   4453834\n",
      "   macro avg       0.50      0.50      0.41   4453834\n",
      "weighted avg       0.58      0.70      0.58   4453834\n",
      "\n",
      "              precision    recall  f1-score   support\n",
      "\n",
      "           0       0.30      0.00      0.00    572959\n",
      "           1       0.70      1.00      0.82   1335827\n",
      "\n",
      "    accuracy                           0.70   1908786\n",
      "   macro avg       0.50      0.50      0.41   1908786\n",
      "weighted avg       0.58      0.70      0.58   1908786\n",
      "\n"
     ]
    }
   ],
   "source": [
    "print(classification_report(Y_train, pred1))\n",
    "print(classification_report(Y_test, pred2))"
   ]
  },
  {
   "cell_type": "markdown",
   "id": "7d81979e-030d-46c9-a61e-f7c8efb2659f",
   "metadata": {},
   "source": [
    "## Hyper-parameter tuning of Logistic Regression using **GridSearchCV**"
   ]
  },
  {
   "cell_type": "code",
   "execution_count": 28,
   "id": "dc1c545f-6e85-444a-a80c-bfc2441b7c9d",
   "metadata": {},
   "outputs": [],
   "source": [
    "scoring = {'AUC': 'roc_auc'}\n",
    "\n",
    "logreg = LogisticRegression(max_iter=1000, solver='lbfgs', penalty='l2')\n",
    "\n",
    "param_grid = {'C': [0.001, 0.01, 0.1, 1, 10, 100]}\n",
    "\n",
    "grid_search = GridSearchCV(logreg, param_grid, cv=5, return_train_score=True,scoring=scoring, refit='AUC')"
   ]
  },
  {
   "cell_type": "markdown",
   "id": "deec2138-de6f-4824-9af4-b85855e9e216",
   "metadata": {},
   "source": [
    "#### After forming the grid search model we fit the data with Training Sets"
   ]
  },
  {
   "cell_type": "code",
   "execution_count": 29,
   "id": "859dd887-db6e-4661-92a5-77a11ba576ec",
   "metadata": {},
   "outputs": [
    {
     "data": {
      "text/plain": [
       "GridSearchCV(cv=5, estimator=LogisticRegression(max_iter=1000),\n",
       "             param_grid={'C': [0.001, 0.01, 0.1, 1, 10, 100]}, refit='AUC',\n",
       "             return_train_score=True, scoring={'AUC': 'roc_auc'})"
      ]
     },
     "execution_count": 29,
     "metadata": {},
     "output_type": "execute_result"
    }
   ],
   "source": [
    "grid_search.fit(X_train, Y_train)"
   ]
  },
  {
   "cell_type": "markdown",
   "id": "832b5859-5bc2-42f2-9e8b-fe2f41db58e7",
   "metadata": {},
   "source": [
    "#### Best Parameters "
   ]
  },
  {
   "cell_type": "code",
   "execution_count": 30,
   "id": "dc3cabf7-7963-4e76-82ba-28622393121f",
   "metadata": {},
   "outputs": [
    {
     "name": "stdout",
     "output_type": "stream",
     "text": [
      "Best hyperparameters: {'C': 0.001}\n"
     ]
    }
   ],
   "source": [
    "print(\"Best hyperparameters:\", grid_search.best_params_)"
   ]
  },
  {
   "cell_type": "markdown",
   "id": "21d9d175-e81f-4f19-93ab-be1d6e2b3ecd",
   "metadata": {},
   "source": [
    "#### Best Score"
   ]
  },
  {
   "cell_type": "code",
   "execution_count": 31,
   "id": "1b49f31b-a5f4-4008-8b62-ad914c2906f7",
   "metadata": {},
   "outputs": [
    {
     "name": "stdout",
     "output_type": "stream",
     "text": [
      "Best score: 0.5001115489278259\n"
     ]
    }
   ],
   "source": [
    "print(\"Best score:\", grid_search.best_score_)"
   ]
  },
  {
   "cell_type": "markdown",
   "id": "5121b347-5784-4de6-8413-2cd7effe88e4",
   "metadata": {},
   "source": [
    "#### Predicting on Test Data"
   ]
  },
  {
   "cell_type": "code",
   "execution_count": 32,
   "id": "24b4d432-8ca3-4d5d-9532-54a9b7eba78b",
   "metadata": {},
   "outputs": [],
   "source": [
    "y_pred = grid_search.best_estimator_.predict(X_test)"
   ]
  },
  {
   "cell_type": "markdown",
   "id": "8882e3e2-4482-4cad-bf89-f3d203b20b18",
   "metadata": {},
   "source": [
    "#### Accuracy after Hyperparameter Tuning"
   ]
  },
  {
   "cell_type": "code",
   "execution_count": 33,
   "id": "db215ed5-28d8-4e5e-b987-01ba9be74952",
   "metadata": {},
   "outputs": [
    {
     "data": {
      "text/plain": [
       "0.6995299630236181"
      ]
     },
     "execution_count": 33,
     "metadata": {},
     "output_type": "execute_result"
    }
   ],
   "source": [
    "accuracy_LR_final = accuracy_score(Y_test, y_pred)\n",
    "accuracy_LR_final"
   ]
  },
  {
   "cell_type": "markdown",
   "id": "f12c8be8-224a-4c7e-86ca-b6fd0ac41102",
   "metadata": {
    "tags": []
   },
   "source": [
    "#### Confusion Matrix"
   ]
  },
  {
   "cell_type": "code",
   "execution_count": 34,
   "id": "355e32ce-09c3-4e7f-be2e-c4325e6d761e",
   "metadata": {
    "tags": []
   },
   "outputs": [
    {
     "name": "stdout",
     "output_type": "stream",
     "text": [
      "Confusion Matrix:\n",
      " [[    430  572529]\n",
      " [   1004 1334823]]\n"
     ]
    }
   ],
   "source": [
    "cm = confusion_matrix(Y_test, y_pred)\n",
    "print(\"Confusion Matrix:\\n\", cm)"
   ]
  },
  {
   "cell_type": "code",
   "execution_count": 35,
   "id": "fb61aa04-42d0-4a83-ae30-2ac1900cbcef",
   "metadata": {
    "tags": []
   },
   "outputs": [
    {
     "data": {
      "image/png": "[encoded data removed]",
      "text/plain": [
       "<Figure size 432x288 with 2 Axes>"
      ]
     },
     "metadata": {
      "needs_background": "light"
     },
     "output_type": "display_data"
    }
   ],
   "source": [
    "# Visualize the confusion matrix as a heatmap\n",
    "sns.heatmap(cm, annot=True, cmap=\"Blues\")\n",
    "plt.title(\"Logistic Regression Confusion Matrix\")\n",
    "plt.xlabel(\"Predicted Class\")\n",
    "plt.ylabel(\"True Class\")\n",
    "plt.show()"
   ]
  },
  {
   "cell_type": "markdown",
   "id": "9d9ba611-a476-4159-abb3-21b66a0669d4",
   "metadata": {},
   "source": [
    "#### Create a classification report"
   ]
  },
  {
   "cell_type": "code",
   "execution_count": 36,
   "id": "caed2338-9ec2-4ca6-9b64-e815df5d0c5a",
   "metadata": {},
   "outputs": [
    {
     "name": "stdout",
     "output_type": "stream",
     "text": [
      "Classification Report:\n",
      "               precision    recall  f1-score   support\n",
      "\n",
      "           0       0.30      0.00      0.00    572959\n",
      "           1       0.70      1.00      0.82   1335827\n",
      "\n",
      "    accuracy                           0.70   1908786\n",
      "   macro avg       0.50      0.50      0.41   1908786\n",
      "weighted avg       0.58      0.70      0.58   1908786\n",
      "\n"
     ]
    }
   ],
   "source": [
    "cr = classification_report(Y_test, y_pred)\n",
    "print(\"Classification Report:\\n\", cr)"
   ]
  },
  {
   "cell_type": "markdown",
   "id": "0425abcb-db19-4302-b871-7d058e9a8a45",
   "metadata": {},
   "source": [
    "#### Plotting Precision-Recall Graph"
   ]
  },
  {
   "cell_type": "markdown",
   "id": "e615bea6-c28a-4bc3-9f1d-2436c394c047",
   "metadata": {},
   "source": [
    "##### Obtain predicted probabilities of positive class"
   ]
  },
  {
   "cell_type": "code",
   "execution_count": 37,
   "id": "64a63a81-62da-4563-8f0b-125a96f6f62c",
   "metadata": {},
   "outputs": [],
   "source": [
    "y_prob = grid_search.best_estimator_.predict_proba(X_test)[:,1]"
   ]
  },
  {
   "cell_type": "markdown",
   "id": "88eaf2a1-6cb7-4358-b8ab-95b25c1d553b",
   "metadata": {},
   "source": [
    "\n",
    "##### Calculate precision and recall values\n"
   ]
  },
  {
   "cell_type": "code",
   "execution_count": 38,
   "id": "971afb62-3be3-4a9b-ba26-dccc6f166bc2",
   "metadata": {},
   "outputs": [],
   "source": [
    "precision, recall, _ = precision_recall_curve(Y_test, y_prob)"
   ]
  },
  {
   "cell_type": "markdown",
   "id": "5c62bfeb-72b2-4aeb-bf6b-2ce58bad093c",
   "metadata": {},
   "source": [
    "##### Calculate AUC score"
   ]
  },
  {
   "cell_type": "code",
   "execution_count": 39,
   "id": "1ac5f43b-0e49-48ab-b85f-0e77d7f09dde",
   "metadata": {},
   "outputs": [],
   "source": [
    "auc_score = auc(recall, precision)"
   ]
  },
  {
   "cell_type": "markdown",
   "id": "d00a5782-9fce-4686-8428-e2f08f46af35",
   "metadata": {},
   "source": [
    "##### Graph"
   ]
  },
  {
   "cell_type": "code",
   "execution_count": 40,
   "id": "b0197228-3a9a-4bd2-8618-2c243275cd27",
   "metadata": {},
   "outputs": [
    {
     "data": {
      "image/png": "[encoded data removed]",
      "text/plain": [
       "<Figure size 432x288 with 1 Axes>"
      ]
     },
     "metadata": {
      "needs_background": "light"
     },
     "output_type": "display_data"
    }
   ],
   "source": [
    "# Plot the precision-recall curve\n",
    "plt.plot(recall, precision, label=f'AUC = {auc_score:.2f}')\n",
    "plt.xlabel('Recall')\n",
    "plt.ylabel('Precision')\n",
    "plt.title('Logistic Regression Precision-Recall Curve')\n",
    "plt.legend()\n",
    "plt.show()"
   ]
  },
  {
   "cell_type": "markdown",
   "id": "8412303e-c7df-4372-ac22-af8bb704650d",
   "metadata": {},
   "source": [
    "#### Plotting F-1 Score Comparison"
   ]
  },
  {
   "cell_type": "code",
   "execution_count": 41,
   "id": "8f0a45a6-0156-457a-b35d-21801124a504",
   "metadata": {},
   "outputs": [],
   "source": [
    "f1_score_LR_initial = f1_score(Y_test, pred2)\n",
    "f1_score_LR_final = f1_score(Y_test, y_pred)"
   ]
  },
  {
   "cell_type": "code",
   "execution_count": 42,
   "id": "1a1bdbdb-2833-4533-b31e-e7ad2267e570",
   "metadata": {},
   "outputs": [
    {
     "data": {
      "text/html": [
       "<div>\n",
       "<style scoped>\n",
       "    .dataframe tbody tr th:only-of-type {\n",
       "        vertical-align: middle;\n",
       "    }\n",
       "\n",
       "    .dataframe tbody tr th {\n",
       "        vertical-align: top;\n",
       "    }\n",
       "\n",
       "    .dataframe thead th {\n",
       "        text-align: right;\n",
       "    }\n",
       "</style>\n",
       "<table border=\"1\" class=\"dataframe\">\n",
       "  <thead>\n",
       "    <tr style=\"text-align: right;\">\n",
       "      <th></th>\n",
       "      <th>F-1 Score</th>\n",
       "      <th>Type</th>\n",
       "    </tr>\n",
       "  </thead>\n",
       "  <tbody>\n",
       "    <tr>\n",
       "      <th>0</th>\n",
       "      <td>0.823157</td>\n",
       "      <td>Initial</td>\n",
       "    </tr>\n",
       "    <tr>\n",
       "      <th>1</th>\n",
       "      <td>0.823157</td>\n",
       "      <td>Final</td>\n",
       "    </tr>\n",
       "  </tbody>\n",
       "</table>\n",
       "</div>"
      ],
      "text/plain": [
       "   F-1 Score     Type\n",
       "0   0.823157  Initial\n",
       "1   0.823157    Final"
      ]
     },
     "execution_count": 42,
     "metadata": {},
     "output_type": "execute_result"
    }
   ],
   "source": [
    "f1score_LR = pd.DataFrame([f1_score_LR_initial,f1_score_LR_final], columns = [\"F-1 Score\"])\n",
    "f1score_LR['Type'] = ['Initial' , 'Final']\n",
    "f1score_LR"
   ]
  },
  {
   "cell_type": "code",
   "execution_count": 43,
   "id": "5a575322-f4a8-4c52-bfe3-f7d0ea5a3dd4",
   "metadata": {},
   "outputs": [
    {
     "data": {
      "text/plain": [
       "[Text(0.5, 1.0, 'Logistic Regression F-1 Score Comparison')]"
      ]
     },
     "execution_count": 43,
     "metadata": {},
     "output_type": "execute_result"
    },
    {
     "data": {
      "image/png": "[encoded data removed]",
      "text/plain": [
       "<Figure size 432x288 with 1 Axes>"
      ]
     },
     "metadata": {
      "needs_background": "light"
     },
     "output_type": "display_data"
    }
   ],
   "source": [
    "sns.barplot(data=f1score_LR, x=\"Type\", y=\"F-1 Score\", hue=\"Type\").set(title = 'Logistic Regression F-1 Score Comparison')"
   ]
  },
  {
   "cell_type": "markdown",
   "id": "fbb8559c-5c0f-4f48-9961-6b204f1f0e33",
   "metadata": {},
   "source": [
    "#### Plotting Accuracy Comparisons"
   ]
  },
  {
   "cell_type": "code",
   "execution_count": 44,
   "id": "3763a760-a15c-4b82-8f7c-110a5114fa0f",
   "metadata": {},
   "outputs": [
    {
     "data": {
      "text/html": [
       "<div>\n",
       "<style scoped>\n",
       "    .dataframe tbody tr th:only-of-type {\n",
       "        vertical-align: middle;\n",
       "    }\n",
       "\n",
       "    .dataframe tbody tr th {\n",
       "        vertical-align: top;\n",
       "    }\n",
       "\n",
       "    .dataframe thead th {\n",
       "        text-align: right;\n",
       "    }\n",
       "</style>\n",
       "<table border=\"1\" class=\"dataframe\">\n",
       "  <thead>\n",
       "    <tr style=\"text-align: right;\">\n",
       "      <th></th>\n",
       "      <th>Accuracy</th>\n",
       "      <th>Type</th>\n",
       "    </tr>\n",
       "  </thead>\n",
       "  <tbody>\n",
       "    <tr>\n",
       "      <th>0</th>\n",
       "      <td>0.69953</td>\n",
       "      <td>Initial</td>\n",
       "    </tr>\n",
       "    <tr>\n",
       "      <th>1</th>\n",
       "      <td>0.69953</td>\n",
       "      <td>Final</td>\n",
       "    </tr>\n",
       "  </tbody>\n",
       "</table>\n",
       "</div>"
      ],
      "text/plain": [
       "   Accuracy     Type\n",
       "0   0.69953  Initial\n",
       "1   0.69953    Final"
      ]
     },
     "execution_count": 44,
     "metadata": {},
     "output_type": "execute_result"
    }
   ],
   "source": [
    "accuracy_LR = pd.DataFrame([accuracy_LR_initial,accuracy_LR_final], columns = [\"Accuracy\"])\n",
    "accuracy_LR['Type'] = ['Initial' , 'Final']\n",
    "accuracy_LR"
   ]
  },
  {
   "cell_type": "code",
   "execution_count": 45,
   "id": "f1346ffd-02e8-4d92-9648-a3f43c79456f",
   "metadata": {},
   "outputs": [
    {
     "data": {
      "text/plain": [
       "[Text(0.5, 1.0, 'Logistic Regression Accuracy Comparison')]"
      ]
     },
     "execution_count": 45,
     "metadata": {},
     "output_type": "execute_result"
    },
    {
     "data": {
      "image/png": "[encoded data removed]",
      "text/plain": [
       "<Figure size 432x288 with 1 Axes>"
      ]
     },
     "metadata": {
      "needs_background": "light"
     },
     "output_type": "display_data"
    }
   ],
   "source": [
    "sns.barplot(data=accuracy_LR, x=\"Type\", y=\"Accuracy\", hue=\"Type\").set(title = 'Logistic Regression Accuracy Comparison')"
   ]
  },
  {
   "cell_type": "markdown",
   "id": "30f221cf-f9ff-4dea-a5e2-f9f92d6b8ff9",
   "metadata": {},
   "source": [
    "## Algorithm 2 : **Decision Tree Classification**"
   ]
  },
  {
   "cell_type": "markdown",
   "id": "c22ed086-e083-4a35-ba50-c684f538cded",
   "metadata": {},
   "source": [
    "Decision tree builds classification or regression models in the form of a tree structure. It breaks down a dataset into smaller and smaller subsets while at the same time an associated decision tree is incrementally developed. The final result is a tree with decision nodes and leaf nodes. "
   ]
  },
  {
   "cell_type": "markdown",
   "id": "5f93a8c7-e4da-4cae-b5f6-d763404ebedf",
   "metadata": {},
   "source": [
    "#### Create a Decision Tree Classifier object"
   ]
  },
  {
   "cell_type": "code",
   "execution_count": 46,
   "id": "4017ae62-5535-4a3f-897c-1819a9a574c6",
   "metadata": {},
   "outputs": [],
   "source": [
    "dt = DecisionTreeClassifier()"
   ]
  },
  {
   "cell_type": "markdown",
   "id": "c4df6045-0800-4557-ac3a-03fb3a53cc0a",
   "metadata": {},
   "source": [
    "#### Train the model on the training set"
   ]
  },
  {
   "cell_type": "code",
   "execution_count": 47,
   "id": "88f1decc-5c02-4c20-90e4-52f2b6927371",
   "metadata": {},
   "outputs": [
    {
     "data": {
      "text/plain": [
       "DecisionTreeClassifier()"
      ]
     },
     "execution_count": 47,
     "metadata": {},
     "output_type": "execute_result"
    }
   ],
   "source": [
    "dt.fit(X_train, Y_train)"
   ]
  },
  {
   "cell_type": "markdown",
   "id": "c7d4efd8-fcbb-466c-b816-7cb08b9cd426",
   "metadata": {},
   "source": [
    "#### Now we predict it with the Testing set"
   ]
  },
  {
   "cell_type": "code",
   "execution_count": 48,
   "id": "15e81d7b-19a0-4d0b-b52e-b26ab02a9375",
   "metadata": {},
   "outputs": [],
   "source": [
    "y_test_pred = dt.predict(X_test)"
   ]
  },
  {
   "cell_type": "markdown",
   "id": "7b6e655f-b1d0-41ad-908d-1ab15d809924",
   "metadata": {},
   "source": [
    "#### Accuracy before Hyperparameter tuning"
   ]
  },
  {
   "cell_type": "code",
   "execution_count": 49,
   "id": "c9554c5d-a558-4927-8b72-b8a4c2932bfd",
   "metadata": {},
   "outputs": [
    {
     "data": {
      "text/plain": [
       "0.575647558186198"
      ]
     },
     "execution_count": 49,
     "metadata": {},
     "output_type": "execute_result"
    }
   ],
   "source": [
    "accuracy_DT_initial = accuracy_score(Y_test, y_test_pred)\n",
    "accuracy_DT_initial"
   ]
  },
  {
   "cell_type": "markdown",
   "id": "3b57de7e-b942-4347-b60d-ca45399a097c",
   "metadata": {},
   "source": [
    "## Hyper-parameter tuning of Decision Tree Classification using **GridSearchCV**"
   ]
  },
  {
   "cell_type": "markdown",
   "id": "c5c956f8-5a2a-4b28-981f-3bf45a5fdef5",
   "metadata": {},
   "source": [
    "#### Determining the Parameters"
   ]
  },
  {
   "cell_type": "code",
   "execution_count": 50,
   "id": "477375de-08a9-4734-8904-34a75de23e6c",
   "metadata": {},
   "outputs": [],
   "source": [
    "params = {\n",
    "    'max_depth': [2, 3, 5],\n",
    "    'min_samples_leaf': [5, 10, 20],\n",
    "}"
   ]
  },
  {
   "cell_type": "code",
   "execution_count": 51,
   "id": "4d08a46a-ad24-4e10-bfdc-16947d0ed416",
   "metadata": {},
   "outputs": [],
   "source": [
    "grid = GridSearchCV(estimator=dt,\n",
    "                    param_grid=params,\n",
    "                    cv=10,\n",
    "                    n_jobs=1,\n",
    "                    verbose=2)"
   ]
  },
  {
   "cell_type": "markdown",
   "id": "ce982f9f-e3a2-44fc-8d56-c9d3a51897e4",
   "metadata": {},
   "source": [
    "#### Fitting the data using the Training Sets"
   ]
  },
  {
   "cell_type": "code",
   "execution_count": 52,
   "id": "555488e6-dbdf-4e68-88d7-d2b83420b48c",
   "metadata": {},
   "outputs": [
    {
     "name": "stdout",
     "output_type": "stream",
     "text": [
      "Fitting 10 folds for each of 9 candidates, totalling 90 fits\n",
      "[CV] END ....................max_depth=2, min_samples_leaf=5; total time=   4.5s\n",
      "[CV] END ....................max_depth=2, min_samples_leaf=5; total time=   4.3s\n",
      "[CV] END ....................max_depth=2, min_samples_leaf=5; total time=   4.3s\n",
      "[CV] END ....................max_depth=2, min_samples_leaf=5; total time=   4.2s\n",
      "[CV] END ....................max_depth=2, min_samples_leaf=5; total time=   4.2s\n",
      "[CV] END ....................max_depth=2, min_samples_leaf=5; total time=   4.3s\n",
      "[CV] END ....................max_depth=2, min_samples_leaf=5; total time=   4.3s\n",
      "[CV] END ....................max_depth=2, min_samples_leaf=5; total time=   4.4s\n",
      "[CV] END ....................max_depth=2, min_samples_leaf=5; total time=   4.3s\n",
      "[CV] END ....................max_depth=2, min_samples_leaf=5; total time=   4.2s\n",
      "[CV] END ...................max_depth=2, min_samples_leaf=10; total time=   4.2s\n",
      "[CV] END ...................max_depth=2, min_samples_leaf=10; total time=   4.3s\n",
      "[CV] END ...................max_depth=2, min_samples_leaf=10; total time=   4.2s\n",
      "[CV] END ...................max_depth=2, min_samples_leaf=10; total time=   4.3s\n",
      "[CV] END ...................max_depth=2, min_samples_leaf=10; total time=   4.3s\n",
      "[CV] END ...................max_depth=2, min_samples_leaf=10; total time=   4.2s\n",
      "[CV] END ...................max_depth=2, min_samples_leaf=10; total time=   4.2s\n",
      "[CV] END ...................max_depth=2, min_samples_leaf=10; total time=   4.3s\n",
      "[CV] END ...................max_depth=2, min_samples_leaf=10; total time=   4.3s\n",
      "[CV] END ...................max_depth=2, min_samples_leaf=10; total time=   4.2s\n",
      "[CV] END ...................max_depth=2, min_samples_leaf=20; total time=   4.4s\n",
      "[CV] END ...................max_depth=2, min_samples_leaf=20; total time=   4.2s\n",
      "[CV] END ...................max_depth=2, min_samples_leaf=20; total time=   4.3s\n",
      "[CV] END ...................max_depth=2, min_samples_leaf=20; total time=   4.3s\n",
      "[CV] END ...................max_depth=2, min_samples_leaf=20; total time=   4.3s\n",
      "[CV] END ...................max_depth=2, min_samples_leaf=20; total time=   4.3s\n",
      "[CV] END ...................max_depth=2, min_samples_leaf=20; total time=   4.2s\n",
      "[CV] END ...................max_depth=2, min_samples_leaf=20; total time=   4.2s\n",
      "[CV] END ...................max_depth=2, min_samples_leaf=20; total time=   4.3s\n",
      "[CV] END ...................max_depth=2, min_samples_leaf=20; total time=   4.3s\n",
      "[CV] END ....................max_depth=3, min_samples_leaf=5; total time=   6.3s\n",
      "[CV] END ....................max_depth=3, min_samples_leaf=5; total time=   6.3s\n",
      "[CV] END ....................max_depth=3, min_samples_leaf=5; total time=   6.2s\n",
      "[CV] END ....................max_depth=3, min_samples_leaf=5; total time=   6.3s\n",
      "[CV] END ....................max_depth=3, min_samples_leaf=5; total time=   6.2s\n",
      "[CV] END ....................max_depth=3, min_samples_leaf=5; total time=   6.6s\n",
      "[CV] END ....................max_depth=3, min_samples_leaf=5; total time=   6.3s\n",
      "[CV] END ....................max_depth=3, min_samples_leaf=5; total time=   6.3s\n",
      "[CV] END ....................max_depth=3, min_samples_leaf=5; total time=   6.2s\n",
      "[CV] END ....................max_depth=3, min_samples_leaf=5; total time=   6.3s\n",
      "[CV] END ...................max_depth=3, min_samples_leaf=10; total time=   6.3s\n",
      "[CV] END ...................max_depth=3, min_samples_leaf=10; total time=   6.3s\n",
      "[CV] END ...................max_depth=3, min_samples_leaf=10; total time=   6.3s\n",
      "[CV] END ...................max_depth=3, min_samples_leaf=10; total time=   6.4s\n",
      "[CV] END ...................max_depth=3, min_samples_leaf=10; total time=   6.2s\n",
      "[CV] END ...................max_depth=3, min_samples_leaf=10; total time=   6.3s\n",
      "[CV] END ...................max_depth=3, min_samples_leaf=10; total time=   6.2s\n",
      "[CV] END ...................max_depth=3, min_samples_leaf=10; total time=   6.2s\n",
      "[CV] END ...................max_depth=3, min_samples_leaf=10; total time=   6.2s\n",
      "[CV] END ...................max_depth=3, min_samples_leaf=10; total time=   6.3s\n",
      "[CV] END ...................max_depth=3, min_samples_leaf=20; total time=   6.2s\n",
      "[CV] END ...................max_depth=3, min_samples_leaf=20; total time=   6.2s\n",
      "[CV] END ...................max_depth=3, min_samples_leaf=20; total time=   6.3s\n",
      "[CV] END ...................max_depth=3, min_samples_leaf=20; total time=   6.2s\n",
      "[CV] END ...................max_depth=3, min_samples_leaf=20; total time=   6.3s\n",
      "[CV] END ...................max_depth=3, min_samples_leaf=20; total time=   6.1s\n",
      "[CV] END ...................max_depth=3, min_samples_leaf=20; total time=   6.2s\n",
      "[CV] END ...................max_depth=3, min_samples_leaf=20; total time=   6.3s\n",
      "[CV] END ...................max_depth=3, min_samples_leaf=20; total time=   6.2s\n",
      "[CV] END ...................max_depth=3, min_samples_leaf=20; total time=   6.1s\n",
      "[CV] END ....................max_depth=5, min_samples_leaf=5; total time=  10.2s\n",
      "[CV] END ....................max_depth=5, min_samples_leaf=5; total time=  10.2s\n",
      "[CV] END ....................max_depth=5, min_samples_leaf=5; total time=  10.3s\n",
      "[CV] END ....................max_depth=5, min_samples_leaf=5; total time=  10.0s\n",
      "[CV] END ....................max_depth=5, min_samples_leaf=5; total time=  10.2s\n",
      "[CV] END ....................max_depth=5, min_samples_leaf=5; total time=  10.1s\n",
      "[CV] END ....................max_depth=5, min_samples_leaf=5; total time=  10.2s\n",
      "[CV] END ....................max_depth=5, min_samples_leaf=5; total time=  10.3s\n",
      "[CV] END ....................max_depth=5, min_samples_leaf=5; total time=  10.1s\n",
      "[CV] END ....................max_depth=5, min_samples_leaf=5; total time=  10.1s\n",
      "[CV] END ...................max_depth=5, min_samples_leaf=10; total time=  10.0s\n",
      "[CV] END ...................max_depth=5, min_samples_leaf=10; total time=  10.1s\n",
      "[CV] END ...................max_depth=5, min_samples_leaf=10; total time=  10.1s\n",
      "[CV] END ...................max_depth=5, min_samples_leaf=10; total time=  10.2s\n",
      "[CV] END ...................max_depth=5, min_samples_leaf=10; total time=  10.3s\n",
      "[CV] END ...................max_depth=5, min_samples_leaf=10; total time=  10.2s\n",
      "[CV] END ...................max_depth=5, min_samples_leaf=10; total time=  10.2s\n",
      "[CV] END ...................max_depth=5, min_samples_leaf=10; total time=  10.2s\n",
      "[CV] END ...................max_depth=5, min_samples_leaf=10; total time=  10.2s\n",
      "[CV] END ...................max_depth=5, min_samples_leaf=10; total time=  10.1s\n",
      "[CV] END ...................max_depth=5, min_samples_leaf=20; total time=  10.2s\n",
      "[CV] END ...................max_depth=5, min_samples_leaf=20; total time=  10.2s\n",
      "[CV] END ...................max_depth=5, min_samples_leaf=20; total time=  10.2s\n",
      "[CV] END ...................max_depth=5, min_samples_leaf=20; total time=  10.1s\n",
      "[CV] END ...................max_depth=5, min_samples_leaf=20; total time=  10.1s\n",
      "[CV] END ...................max_depth=5, min_samples_leaf=20; total time=  10.0s\n",
      "[CV] END ...................max_depth=5, min_samples_leaf=20; total time=  10.3s\n",
      "[CV] END ...................max_depth=5, min_samples_leaf=20; total time=  10.2s\n",
      "[CV] END ...................max_depth=5, min_samples_leaf=20; total time=  10.2s\n",
      "[CV] END ...................max_depth=5, min_samples_leaf=20; total time=  10.2s\n"
     ]
    },
    {
     "data": {
      "text/plain": [
       "GridSearchCV(cv=10, estimator=DecisionTreeClassifier(), n_jobs=1,\n",
       "             param_grid={'max_depth': [2, 3, 5],\n",
       "                         'min_samples_leaf': [5, 10, 20]},\n",
       "             verbose=2)"
      ]
     },
     "execution_count": 52,
     "metadata": {},
     "output_type": "execute_result"
    }
   ],
   "source": [
    "grid.fit(X_train, Y_train)"
   ]
  },
  {
   "cell_type": "markdown",
   "id": "4571513f-1ae1-4f85-bbd1-87e0b0b01577",
   "metadata": {},
   "source": [
    "#### Now we predict it with the Testing set"
   ]
  },
  {
   "cell_type": "code",
   "execution_count": 53,
   "id": "b6854f5f-ab69-439a-bca9-55e51ea99ed1",
   "metadata": {},
   "outputs": [],
   "source": [
    "y_test_pred_hyp = grid.predict(X_test)"
   ]
  },
  {
   "cell_type": "code",
   "execution_count": 54,
   "id": "0b53b064-9a97-441d-beca-a838bac1943e",
   "metadata": {},
   "outputs": [
    {
     "data": {
      "text/plain": [
       "0.6998270104663383"
      ]
     },
     "execution_count": 54,
     "metadata": {},
     "output_type": "execute_result"
    }
   ],
   "source": [
    "accuracy_DT_final = accuracy_score(Y_test,y_test_pred_hyp)\n",
    "accuracy_DT_final"
   ]
  },
  {
   "cell_type": "markdown",
   "id": "535c09ad-7bfa-4706-b347-a14f392e5397",
   "metadata": {},
   "source": [
    "#### Confusion Matrix"
   ]
  },
  {
   "cell_type": "code",
   "execution_count": 55,
   "id": "68812ccc-ff55-4af6-9825-8fa5698bdc9b",
   "metadata": {},
   "outputs": [
    {
     "name": "stdout",
     "output_type": "stream",
     "text": [
      "Confusion Matrix:\n",
      " [[      3  572956]\n",
      " [     10 1335817]]\n"
     ]
    }
   ],
   "source": [
    "cm = confusion_matrix(Y_test, y_test_pred_hyp)\n",
    "print(\"Confusion Matrix:\\n\", cm)"
   ]
  },
  {
   "cell_type": "code",
   "execution_count": 56,
   "id": "ed744b3b-2a7c-4e84-bd91-5c7585ce1c4d",
   "metadata": {},
   "outputs": [
    {
     "data": {
      "image/png": "[encoded data removed]",
      "text/plain": [
       "<Figure size 432x288 with 2 Axes>"
      ]
     },
     "metadata": {
      "needs_background": "light"
     },
     "output_type": "display_data"
    }
   ],
   "source": [
    "# Visualize the confusion matrix as a heatmap\n",
    "sns.heatmap(cm, annot=True, cmap=\"Blues\")\n",
    "plt.title(\"Confusion Matrix\")\n",
    "plt.xlabel(\"Predicted Class\")\n",
    "plt.ylabel(\"True Class\")\n",
    "plt.show()"
   ]
  },
  {
   "cell_type": "markdown",
   "id": "41a8e925-128e-42ef-b02b-e3765284d910",
   "metadata": {},
   "source": [
    "#### Creating a Classification Graph"
   ]
  },
  {
   "cell_type": "code",
   "execution_count": 57,
   "id": "c8f97901-fd0a-4ea8-b13b-2ed3e320cd53",
   "metadata": {},
   "outputs": [
    {
     "name": "stdout",
     "output_type": "stream",
     "text": [
      "Classification Report:\n",
      "               precision    recall  f1-score   support\n",
      "\n",
      "           0       0.23      0.00      0.00    572959\n",
      "           1       0.70      1.00      0.82   1335827\n",
      "\n",
      "    accuracy                           0.70   1908786\n",
      "   macro avg       0.47      0.50      0.41   1908786\n",
      "weighted avg       0.56      0.70      0.58   1908786\n",
      "\n"
     ]
    }
   ],
   "source": [
    "cr = classification_report(Y_test, y_test_pred_hyp)\n",
    "print(\"Classification Report:\\n\", cr)"
   ]
  },
  {
   "cell_type": "markdown",
   "id": "84424c70-f986-4fb8-a95c-69afe3fb1cfc",
   "metadata": {},
   "source": [
    "#### Plotting Precision Recall Graph"
   ]
  },
  {
   "cell_type": "code",
   "execution_count": 58,
   "id": "096602b5-4bae-4e69-9e80-cb1f61e6e9f6",
   "metadata": {},
   "outputs": [
    {
     "data": {
      "text/plain": [
       "DecisionTreeClassifier(max_depth=2, min_samples_leaf=5)"
      ]
     },
     "execution_count": 58,
     "metadata": {},
     "output_type": "execute_result"
    }
   ],
   "source": [
    "grid.best_estimator_"
   ]
  },
  {
   "cell_type": "code",
   "execution_count": 59,
   "id": "590e00ff-a89d-4d0f-be31-0ba6b42da012",
   "metadata": {},
   "outputs": [
    {
     "data": {
      "text/plain": [
       "0.6999933091361003"
      ]
     },
     "execution_count": 59,
     "metadata": {},
     "output_type": "execute_result"
    }
   ],
   "source": [
    "grid.best_score_"
   ]
  },
  {
   "cell_type": "code",
   "execution_count": 60,
   "id": "a45d0722-f834-4312-95f9-34976acca306",
   "metadata": {},
   "outputs": [
    {
     "data": {
      "image/png": "[encoded data removed]",
      "text/plain": [
       "<Figure size 432x288 with 1 Axes>"
      ]
     },
     "metadata": {
      "needs_background": "light"
     },
     "output_type": "display_data"
    }
   ],
   "source": [
    "y_prob_dt = grid.best_estimator_.predict_proba(X_test)[:,1]\n",
    "precision, recall, _ = precision_recall_curve(Y_test, y_prob_dt)\n",
    "\n",
    "# Calculate AUC score\n",
    "auc_score = auc(recall, precision)\n",
    "\n",
    "# Plot the precision-recall curve\n",
    "plt.plot(recall, precision, label=f'AUC = {auc_score:.2f}')\n",
    "plt.xlabel('Recall')\n",
    "plt.ylabel('Precision')\n",
    "plt.title('Decision Tree Precision-Recall Curve')\n",
    "plt.legend()\n",
    "plt.show()"
   ]
  },
  {
   "cell_type": "markdown",
   "id": "65a369fe-1215-432b-812b-3ec3a3c5788e",
   "metadata": {},
   "source": [
    "#### Plotting F-1 Score Comparison"
   ]
  },
  {
   "cell_type": "code",
   "execution_count": 61,
   "id": "a7d655c5-264d-4f03-86af-fabdd1baa732",
   "metadata": {},
   "outputs": [
    {
     "data": {
      "text/html": [
       "<div>\n",
       "<style scoped>\n",
       "    .dataframe tbody tr th:only-of-type {\n",
       "        vertical-align: middle;\n",
       "    }\n",
       "\n",
       "    .dataframe tbody tr th {\n",
       "        vertical-align: top;\n",
       "    }\n",
       "\n",
       "    .dataframe thead th {\n",
       "        text-align: right;\n",
       "    }\n",
       "</style>\n",
       "<table border=\"1\" class=\"dataframe\">\n",
       "  <thead>\n",
       "    <tr style=\"text-align: right;\">\n",
       "      <th></th>\n",
       "      <th>F-1 Score</th>\n",
       "      <th>Type</th>\n",
       "    </tr>\n",
       "  </thead>\n",
       "  <tbody>\n",
       "    <tr>\n",
       "      <th>0</th>\n",
       "      <td>0.694800</td>\n",
       "      <td>Initial</td>\n",
       "    </tr>\n",
       "    <tr>\n",
       "      <th>1</th>\n",
       "      <td>0.823409</td>\n",
       "      <td>Final</td>\n",
       "    </tr>\n",
       "  </tbody>\n",
       "</table>\n",
       "</div>"
      ],
      "text/plain": [
       "   F-1 Score     Type\n",
       "0   0.694800  Initial\n",
       "1   0.823409    Final"
      ]
     },
     "execution_count": 61,
     "metadata": {},
     "output_type": "execute_result"
    }
   ],
   "source": [
    "f1_score_DT_initial = f1_score(Y_test,y_test_pred)\n",
    "f1_score_DT_final = f1_score(Y_test,y_test_pred_hyp)\n",
    "\n",
    "f1score_DT = pd.DataFrame([f1_score_DT_initial,f1_score_DT_final], columns = [\"F-1 Score\"])\n",
    "f1score_DT['Type'] = ['Initial' , 'Final']\n",
    "f1score_DT\n"
   ]
  },
  {
   "cell_type": "code",
   "execution_count": 62,
   "id": "d40b3a93-b1c7-466c-8ccf-b78a63a8632e",
   "metadata": {},
   "outputs": [
    {
     "data": {
      "text/plain": [
       "[Text(0.5, 1.0, 'Decision Tree F-1 Score Comparison')]"
      ]
     },
     "execution_count": 62,
     "metadata": {},
     "output_type": "execute_result"
    },
    {
     "data": {
      "image/png": "[encoded data removed]",
      "text/plain": [
       "<Figure size 432x288 with 1 Axes>"
      ]
     },
     "metadata": {
      "needs_background": "light"
     },
     "output_type": "display_data"
    }
   ],
   "source": [
    "sns.barplot(data=f1score_DT, x=\"Type\", y=\"F-1 Score\", hue=\"Type\").set(title = 'Decision Tree F-1 Score Comparison')"
   ]
  },
  {
   "cell_type": "markdown",
   "id": "26989d8c-e050-4407-baf7-6123aa12f156",
   "metadata": {},
   "source": [
    "#### Plotting Accuracy Comparisions"
   ]
  },
  {
   "cell_type": "code",
   "execution_count": 63,
   "id": "00f4312c-5cc5-4efc-a83c-b9e23b97e23e",
   "metadata": {},
   "outputs": [
    {
     "data": {
      "text/html": [
       "<div>\n",
       "<style scoped>\n",
       "    .dataframe tbody tr th:only-of-type {\n",
       "        vertical-align: middle;\n",
       "    }\n",
       "\n",
       "    .dataframe tbody tr th {\n",
       "        vertical-align: top;\n",
       "    }\n",
       "\n",
       "    .dataframe thead th {\n",
       "        text-align: right;\n",
       "    }\n",
       "</style>\n",
       "<table border=\"1\" class=\"dataframe\">\n",
       "  <thead>\n",
       "    <tr style=\"text-align: right;\">\n",
       "      <th></th>\n",
       "      <th>Accuracy</th>\n",
       "      <th>Type</th>\n",
       "    </tr>\n",
       "  </thead>\n",
       "  <tbody>\n",
       "    <tr>\n",
       "      <th>0</th>\n",
       "      <td>0.575648</td>\n",
       "      <td>Initial</td>\n",
       "    </tr>\n",
       "    <tr>\n",
       "      <th>1</th>\n",
       "      <td>0.699827</td>\n",
       "      <td>Final</td>\n",
       "    </tr>\n",
       "  </tbody>\n",
       "</table>\n",
       "</div>"
      ],
      "text/plain": [
       "   Accuracy     Type\n",
       "0  0.575648  Initial\n",
       "1  0.699827    Final"
      ]
     },
     "execution_count": 63,
     "metadata": {},
     "output_type": "execute_result"
    }
   ],
   "source": [
    "accuracy_DT = pd.DataFrame([accuracy_DT_initial,accuracy_DT_final], columns = [\"Accuracy\"])\n",
    "accuracy_DT['Type'] = ['Initial' , 'Final']\n",
    "accuracy_DT"
   ]
  },
  {
   "cell_type": "code",
   "execution_count": 64,
   "id": "13a433b5-0662-438b-a0a2-183bba77ea5c",
   "metadata": {},
   "outputs": [
    {
     "data": {
      "text/plain": [
       "[Text(0.5, 1.0, 'Decision Tree Accuracy Comparison')]"
      ]
     },
     "execution_count": 64,
     "metadata": {},
     "output_type": "execute_result"
    },
    {
     "data": {
      "image/png": "[encoded data removed]",
      "text/plain": [
       "<Figure size 432x288 with 1 Axes>"
      ]
     },
     "metadata": {
      "needs_background": "light"
     },
     "output_type": "display_data"
    }
   ],
   "source": [
    "sns.barplot(data=accuracy_DT, x=\"Type\", y=\"Accuracy\", hue=\"Type\").set(title = 'Decision Tree Accuracy Comparison')"
   ]
  },
  {
   "cell_type": "markdown",
   "id": "ae010b8e-feda-4630-bf07-ee2248e6c5cc",
   "metadata": {},
   "source": [
    "## Algorithm 3 : **Gradient Boost**"
   ]
  },
  {
   "cell_type": "markdown",
   "id": "c2a8db92-28a9-42f3-b46e-a42b1d6be393",
   "metadata": {},
   "source": [
    "The main idea behind this algorithm is to build models sequentially and these subsequent models try to reduce the errors of the previous model. But how do we do that? How do we reduce the error? This is done by building a new model on the errors or residuals of the previous model."
   ]
  },
  {
   "cell_type": "markdown",
   "id": "8cb95071-778b-45b1-9ffb-b928c60e110e",
   "metadata": {},
   "source": [
    "#### Creating the XGB Object"
   ]
  },
  {
   "cell_type": "code",
   "execution_count": 65,
   "id": "b6d7224f-ca77-45c8-894a-d87c6c9d3322",
   "metadata": {},
   "outputs": [],
   "source": [
    "xgb_cl = xgb.XGBClassifier()"
   ]
  },
  {
   "cell_type": "markdown",
   "id": "7def4e01-cf23-4392-84e7-f6e119235d7d",
   "metadata": {},
   "source": [
    "#### Using the model to fit with the train data"
   ]
  },
  {
   "cell_type": "code",
   "execution_count": 66,
   "id": "8c292a38-601c-49d8-bf7d-a5a586f0f4cd",
   "metadata": {},
   "outputs": [
    {
     "data": {
      "text/plain": [
       "XGBClassifier(base_score=None, booster=None, callbacks=None,\n",
       "              colsample_bylevel=None, colsample_bynode=None,\n",
       "              colsample_bytree=None, early_stopping_rounds=None,\n",
       "              enable_categorical=False, eval_metric=None, feature_types=None,\n",
       "              gamma=None, gpu_id=None, grow_policy=None, importance_type=None,\n",
       "              interaction_constraints=None, learning_rate=None, max_bin=None,\n",
       "              max_cat_threshold=None, max_cat_to_onehot=None,\n",
       "              max_delta_step=None, max_depth=None, max_leaves=None,\n",
       "              min_child_weight=None, missing=nan, monotone_constraints=None,\n",
       "              n_estimators=100, n_jobs=None, num_parallel_tree=None,\n",
       "              predictor=None, random_state=None, ...)"
      ]
     },
     "execution_count": 66,
     "metadata": {},
     "output_type": "execute_result"
    }
   ],
   "source": [
    "xgb_cl.fit(X_train, Y_train)"
   ]
  },
  {
   "cell_type": "markdown",
   "id": "590fa38d-c48a-446e-a240-eeb2df6f7ee1",
   "metadata": {},
   "source": [
    "#### Predicting the model"
   ]
  },
  {
   "cell_type": "code",
   "execution_count": 67,
   "id": "a248e883-6407-4581-b004-d91071b6948f",
   "metadata": {},
   "outputs": [],
   "source": [
    "preds = xgb_cl.predict(X_test)"
   ]
  },
  {
   "cell_type": "markdown",
   "id": "ec530c2e-0133-421b-8420-fda51df69aea",
   "metadata": {},
   "source": [
    "#### Finding the accuracy"
   ]
  },
  {
   "cell_type": "code",
   "execution_count": 68,
   "id": "fa6b4f09-bc58-4f44-8ae6-0e51866c8eca",
   "metadata": {},
   "outputs": [
    {
     "data": {
      "text/plain": [
       "0.6998102458840331"
      ]
     },
     "execution_count": 68,
     "metadata": {},
     "output_type": "execute_result"
    }
   ],
   "source": [
    "accuracy_XGB_initial = accuracy_score(Y_test, preds)\n",
    "accuracy_XGB_initial"
   ]
  },
  {
   "cell_type": "markdown",
   "id": "973aec7f-9e94-47bc-bf2d-60d4eeb9b855",
   "metadata": {},
   "source": [
    "#### Creating a function for Confusion Matrix"
   ]
  },
  {
   "cell_type": "code",
   "execution_count": 69,
   "id": "5b39ef7a-bff0-422f-b95c-15b868d9a9aa",
   "metadata": {},
   "outputs": [],
   "source": [
    "def get_confusion_matrix(true_y_classes_array, predicted_y_classes_array):\n",
    "    unique_classes = np.unique(true_y_classes_array)\n",
    "    unique_classes = unique_classes[::-1]\n",
    "    confusion_matrix = np.zeros((len(unique_classes), len(unique_classes)))\n",
    "    for i in range(len(unique_classes)):\n",
    "        for j in range(len(unique_classes)):\n",
    "            confusion_matrix[i, j] = np.sum((true_y_classes_array == unique_classes[j]) & (predicted_y_classes_array == unique_classes[i]))\n",
    "    return confusion_matrix"
   ]
  },
  {
   "cell_type": "markdown",
   "id": "692d7d9e-d286-45ec-8941-d507807d192e",
   "metadata": {},
   "source": [
    "#### Creating a function to generate Classification Report i.e f1 score, precision, recall"
   ]
  },
  {
   "cell_type": "code",
   "execution_count": 70,
   "id": "a6bae4b3-f1a4-4bd0-9135-5eae95e011df",
   "metadata": {},
   "outputs": [],
   "source": [
    "def get_report(binary_conf_matrix):\n",
    "    true_negative  = binary_conf_matrix[1][1]    \n",
    "    false_positive = binary_conf_matrix[0][1]\n",
    "    false_negative = binary_conf_matrix[1][0]\n",
    "    true_positive = binary_conf_matrix[0][0]\n",
    "\n",
    "    precision = true_positive / (true_positive + false_positive)\n",
    "    recall = true_positive/ (true_positive + false_negative)\n",
    "    \n",
    "    f1_score = (2 * (precision * recall)) / (precision + recall )\n",
    "    \n",
    "    sum_all_elements_of_confusion_matrix = np.concatenate(binary_conf_matrix).sum()\n",
    "    \n",
    "    accuracy_score = (true_positive + true_negative)/sum_all_elements_of_confusion_matrix\n",
    "    \n",
    "    return precision, recall, f1_score, accuracy_score"
   ]
  },
  {
   "cell_type": "markdown",
   "id": "61c0ef7a-75c2-445a-8edc-3bd039a0070c",
   "metadata": {},
   "source": [
    "#### Generating the confusion Matrix"
   ]
  },
  {
   "cell_type": "code",
   "execution_count": 71,
   "id": "5df1c37c-cf5b-452e-bf85-0e7fd00ec2d3",
   "metadata": {},
   "outputs": [
    {
     "name": "stdout",
     "output_type": "stream",
     "text": [
      "[[1.335759e+06 5.729300e+05]\n",
      " [6.800000e+01 2.900000e+01]]\n"
     ]
    }
   ],
   "source": [
    "confusion_matrix_5_a = get_confusion_matrix(Y_test, preds)\n",
    "print(confusion_matrix_5_a)"
   ]
  },
  {
   "cell_type": "code",
   "execution_count": 72,
   "id": "975fe870-af39-4133-b62c-f5f4087f0b8f",
   "metadata": {},
   "outputs": [
    {
     "data": {
      "image/png": "[encoded data removed]",
      "text/plain": [
       "<Figure size 432x288 with 2 Axes>"
      ]
     },
     "metadata": {
      "needs_background": "light"
     },
     "output_type": "display_data"
    }
   ],
   "source": [
    "# Visualize the confusion matrix as a heatmap\n",
    "sns.heatmap(confusion_matrix_5_a, annot=True, cmap=\"Blues\")\n",
    "plt.title(\"XGB Confusion Matrix\")\n",
    "plt.xlabel(\"Predicted Class\")\n",
    "plt.ylabel(\"True Class\")\n",
    "plt.show()"
   ]
  },
  {
   "cell_type": "code",
   "execution_count": 73,
   "id": "d84091f0-7ea1-46cc-985b-e22a12fdf0e3",
   "metadata": {},
   "outputs": [
    {
     "name": "stdout",
     "output_type": "stream",
     "text": [
      "Classification Report:\n",
      "               precision    recall  f1-score   support\n",
      "\n",
      "           0       0.30      0.00      0.00    572959\n",
      "           1       0.70      1.00      0.82   1335827\n",
      "\n",
      "    accuracy                           0.70   1908786\n",
      "   macro avg       0.50      0.50      0.41   1908786\n",
      "weighted avg       0.58      0.70      0.58   1908786\n",
      "\n"
     ]
    }
   ],
   "source": [
    "classrep = classification_report(Y_test, preds)\n",
    "print(\"Classification Report:\\n\", classrep)"
   ]
  },
  {
   "cell_type": "markdown",
   "id": "c0a9a377-76d7-4e7e-9d90-ac6854b5bbcb",
   "metadata": {},
   "source": [
    "#### F-1 Score "
   ]
  },
  {
   "cell_type": "code",
   "execution_count": 74,
   "id": "fa72d2d9-bcaf-4973-9a1c-6ad2902fce58",
   "metadata": {},
   "outputs": [],
   "source": [
    "precision, recall, f1_score, accuracy = get_report(confusion_matrix_5_a)\n",
    "f1_score_XGB_initial = f1_score"
   ]
  },
  {
   "cell_type": "markdown",
   "id": "15cdf8a0-ce20-4655-a81e-f1afd0b0eaf0",
   "metadata": {},
   "source": [
    "## Hyper-parameter tuning of XGBoost using **RandomSearch**"
   ]
  },
  {
   "cell_type": "markdown",
   "id": "f6650f07-3c48-4261-8eed-ce46a8f034f0",
   "metadata": {},
   "source": [
    "#### Creating the xgb object"
   ]
  },
  {
   "cell_type": "code",
   "execution_count": 75,
   "id": "561c0d5d-c4e5-460a-a1d7-615757ffa27e",
   "metadata": {},
   "outputs": [],
   "source": [
    "classifier = xgb.XGBClassifier()"
   ]
  },
  {
   "cell_type": "markdown",
   "id": "783bda10-f613-4e6b-a164-2153a06385a7",
   "metadata": {},
   "source": [
    "#### Determining the Parameters"
   ]
  },
  {
   "cell_type": "code",
   "execution_count": 76,
   "id": "5b8177a7-22fe-467a-a593-1a81c74274c9",
   "metadata": {},
   "outputs": [],
   "source": [
    "params = {\n",
    " \"learning_rate\" : [0.05,0.10,0.15,0.20,0.25,0.30],\n",
    " \"max_depth\" : [ 3, 4, 5, 6, 8, 10, 12, 15],\n",
    " \"min_child_weight\" : [ 1, 3, 5, 7 ],\n",
    " \"gamma\": [ 0.0, 0.1, 0.2 , 0.3, 0.4 ],\n",
    " \"colsample_bytree\" : [ 0.3, 0.4, 0.5 , 0.7 ]\n",
    "}"
   ]
  },
  {
   "cell_type": "markdown",
   "id": "f5c02b9d-59d5-4a83-85b3-a7ed8ab8221b",
   "metadata": {},
   "source": [
    "#### Creating the Model for Random Search"
   ]
  },
  {
   "cell_type": "code",
   "execution_count": 77,
   "id": "a3b48b38-e811-4577-80ab-52f662c0acb6",
   "metadata": {},
   "outputs": [],
   "source": [
    "rs_model=RandomizedSearchCV(classifier,param_distributions=params,n_iter=5,scoring='roc_auc',n_jobs=-1,cv=3,verbose=3)"
   ]
  },
  {
   "cell_type": "markdown",
   "id": "03f5b81f-41b5-443e-a6d1-d965613e32f6",
   "metadata": {},
   "source": [
    "#### Fitting the Model with the Training Data"
   ]
  },
  {
   "cell_type": "code",
   "execution_count": 78,
   "id": "db20cb22-0f57-4e34-89f6-422f7b9f6b5f",
   "metadata": {},
   "outputs": [
    {
     "name": "stdout",
     "output_type": "stream",
     "text": [
      "Fitting 3 folds for each of 5 candidates, totalling 15 fits\n",
      "[CV 2/3] END colsample_bytree=0.5, gamma=0.4, learning_rate=0.2, max_depth=3, min_child_weight=7;, score=0.500 total time= 2.9min\n",
      "[CV 2/3] END colsample_bytree=0.3, gamma=0.4, learning_rate=0.1, max_depth=6, min_child_weight=7;, score=0.500 total time= 2.6min\n",
      "[CV 1/3] END colsample_bytree=0.5, gamma=0.4, learning_rate=0.2, max_depth=3, min_child_weight=7;, score=0.499 total time= 2.9min\n",
      "[CV 3/3] END colsample_bytree=0.3, gamma=0.4, learning_rate=0.1, max_depth=6, min_child_weight=7;, score=0.500 total time= 2.6min\n"
     ]
    },
    {
     "data": {
      "text/plain": [
       "RandomizedSearchCV(cv=3,\n",
       "                   estimator=XGBClassifier(base_score=None, booster=None,\n",
       "                                           callbacks=None,\n",
       "                                           colsample_bylevel=None,\n",
       "                                           colsample_bynode=None,\n",
       "                                           colsample_bytree=None,\n",
       "                                           early_stopping_rounds=None,\n",
       "                                           enable_categorical=False,\n",
       "                                           eval_metric=None, feature_types=None,\n",
       "                                           gamma=None, gpu_id=None,\n",
       "                                           grow_policy=None,\n",
       "                                           importance_type=None,\n",
       "                                           interaction_constraints=None,\n",
       "                                           learning_rate...\n",
       "                                           monotone_constraints=None,\n",
       "                                           n_estimators=100, n_jobs=None,\n",
       "                                           num_parallel_tree=None,\n",
       "                                           predictor=None, random_state=None, ...),\n",
       "                   n_iter=5, n_jobs=-1,\n",
       "                   param_distributions={'colsample_bytree': [0.3, 0.4, 0.5,\n",
       "                                                             0.7],\n",
       "                                        'gamma': [0.0, 0.1, 0.2, 0.3, 0.4],\n",
       "                                        'learning_rate': [0.05, 0.1, 0.15, 0.2,\n",
       "                                                          0.25, 0.3],\n",
       "                                        'max_depth': [3, 4, 5, 6, 8, 10, 12,\n",
       "                                                      15],\n",
       "                                        'min_child_weight': [1, 3, 5, 7]},\n",
       "                   scoring='roc_auc', verbose=3)"
      ]
     },
     "execution_count": 78,
     "metadata": {},
     "output_type": "execute_result"
    }
   ],
   "source": [
    "rs_model.fit(X_train,Y_train)"
   ]
  },
  {
   "cell_type": "markdown",
   "id": "baee102d-4ac4-4a58-80de-2f9daa4e9b08",
   "metadata": {},
   "source": [
    "#### Finding the best Estimator of the Model"
   ]
  },
  {
   "cell_type": "code",
   "execution_count": 79,
   "id": "ebbd4ab7-1c96-4f95-85f2-ff5f73df5364",
   "metadata": {},
   "outputs": [
    {
     "data": {
      "text/plain": [
       "XGBClassifier(base_score=None, booster=None, callbacks=None,\n",
       "              colsample_bylevel=None, colsample_bynode=None,\n",
       "              colsample_bytree=0.4, early_stopping_rounds=None,\n",
       "              enable_categorical=False, eval_metric=None, feature_types=None,\n",
       "              gamma=0.2, gpu_id=None, grow_policy=None, importance_type=None,\n",
       "              interaction_constraints=None, learning_rate=0.3, max_bin=None,\n",
       "              max_cat_threshold=None, max_cat_to_onehot=None,\n",
       "              max_delta_step=None, max_depth=15, max_leaves=None,\n",
       "              min_child_weight=1, missing=nan, monotone_constraints=None,\n",
       "              n_estimators=100, n_jobs=None, num_parallel_tree=None,\n",
       "              predictor=None, random_state=None, ...)"
      ]
     },
     "execution_count": 79,
     "metadata": {},
     "output_type": "execute_result"
    }
   ],
   "source": [
    "rs_model.best_estimator_"
   ]
  },
  {
   "cell_type": "markdown",
   "id": "5af6211a-0e18-4f4f-bc3d-eb62d36f8346",
   "metadata": {},
   "source": [
    "#### Predicting Test Data using the best Estimator"
   ]
  },
  {
   "cell_type": "code",
   "execution_count": 80,
   "id": "9077d168-ad94-49b5-a19b-4f6dae6e7be6",
   "metadata": {},
   "outputs": [],
   "source": [
    "random_search = rs_model.best_estimator_\n",
    "predict_random = random_search.predict(X_test)"
   ]
  },
  {
   "cell_type": "markdown",
   "id": "745670a2-c293-454f-84fd-a2f8013b3c4f",
   "metadata": {},
   "source": [
    "#### Accuracy After Hyperparameter"
   ]
  },
  {
   "cell_type": "code",
   "execution_count": 81,
   "id": "4660efe8-bb0b-44ca-87c3-d9e948243778",
   "metadata": {},
   "outputs": [
    {
     "data": {
      "text/plain": [
       "0.6998259626799442"
      ]
     },
     "execution_count": 81,
     "metadata": {},
     "output_type": "execute_result"
    }
   ],
   "source": [
    "accuracy_XGB_final = accuracy_score(Y_test, predict_random)\n",
    "accuracy_XGB_final"
   ]
  },
  {
   "cell_type": "markdown",
   "id": "874e35d5-57a4-40d9-b33a-d0ff4dfc7a86",
   "metadata": {},
   "source": [
    "#### Confusion Matrix After Hyper-parameter Tuning"
   ]
  },
  {
   "cell_type": "code",
   "execution_count": 82,
   "id": "d941df06-bc21-4c6b-b066-1432368366b1",
   "metadata": {},
   "outputs": [
    {
     "name": "stdout",
     "output_type": "stream",
     "text": [
      "[[1.335813e+06 5.729540e+05]\n",
      " [1.400000e+01 5.000000e+00]]\n"
     ]
    }
   ],
   "source": [
    "confusion_matrix_rs = get_confusion_matrix(Y_test, predict_random)\n",
    "print(confusion_matrix_rs)"
   ]
  },
  {
   "cell_type": "code",
   "execution_count": 83,
   "id": "b54907fb-f689-44c4-977d-159e4e666779",
   "metadata": {},
   "outputs": [
    {
     "data": {
      "image/png": "[encoded data removed]",
      "text/plain": [
       "<Figure size 432x288 with 2 Axes>"
      ]
     },
     "metadata": {
      "needs_background": "light"
     },
     "output_type": "display_data"
    }
   ],
   "source": [
    "sns.heatmap(confusion_matrix_rs, annot=True, cmap=\"Blues\")\n",
    "plt.title(\"XGB Confusion Matrix\")\n",
    "plt.xlabel(\"Predicted Class\")\n",
    "plt.ylabel(\"True Class\")\n",
    "plt.show()"
   ]
  },
  {
   "cell_type": "markdown",
   "id": "42664280-bf09-413f-b388-f2c7ff865695",
   "metadata": {},
   "source": [
    "#### Plotting F-1 Score Comparision"
   ]
  },
  {
   "cell_type": "code",
   "execution_count": 84,
   "id": "fbcdf680-1587-4984-a5fc-a66ac93b82f5",
   "metadata": {},
   "outputs": [],
   "source": [
    "precision_rs, recall_rs, f1_score_rs, accuracy_rs = get_report(confusion_matrix_rs)\n",
    "f1_score_XGB_final = f1_score_rs"
   ]
  },
  {
   "cell_type": "markdown",
   "id": "6aff19a0-970c-4049-b56e-5c6e919f2778",
   "metadata": {},
   "source": [
    "#### Comapring the F-1 Scores After Hyper Parameter Tuning"
   ]
  },
  {
   "cell_type": "code",
   "execution_count": 85,
   "id": "f5d5be3d-9371-44d7-bea2-adbe67bf611c",
   "metadata": {},
   "outputs": [
    {
     "data": {
      "text/html": [
       "<div>\n",
       "<style scoped>\n",
       "    .dataframe tbody tr th:only-of-type {\n",
       "        vertical-align: middle;\n",
       "    }\n",
       "\n",
       "    .dataframe tbody tr th {\n",
       "        vertical-align: top;\n",
       "    }\n",
       "\n",
       "    .dataframe thead th {\n",
       "        text-align: right;\n",
       "    }\n",
       "</style>\n",
       "<table border=\"1\" class=\"dataframe\">\n",
       "  <thead>\n",
       "    <tr style=\"text-align: right;\">\n",
       "      <th></th>\n",
       "      <th>F-1 Score</th>\n",
       "      <th>Type</th>\n",
       "    </tr>\n",
       "  </thead>\n",
       "  <tbody>\n",
       "    <tr>\n",
       "      <th>0</th>\n",
       "      <td>0.823395</td>\n",
       "      <td>Initial</td>\n",
       "    </tr>\n",
       "    <tr>\n",
       "      <th>1</th>\n",
       "      <td>0.823408</td>\n",
       "      <td>Final</td>\n",
       "    </tr>\n",
       "  </tbody>\n",
       "</table>\n",
       "</div>"
      ],
      "text/plain": [
       "   F-1 Score     Type\n",
       "0   0.823395  Initial\n",
       "1   0.823408    Final"
      ]
     },
     "execution_count": 85,
     "metadata": {},
     "output_type": "execute_result"
    }
   ],
   "source": [
    "f1score_XGB = pd.DataFrame([f1_score_XGB_initial,f1_score_XGB_final], columns = [\"F-1 Score\"])\n",
    "f1score_XGB['Type'] = ['Initial' , 'Final']\n",
    "f1score_XGB"
   ]
  },
  {
   "cell_type": "code",
   "execution_count": 86,
   "id": "253643d2-9487-4bcc-a0bc-69826c60a8f1",
   "metadata": {},
   "outputs": [
    {
     "data": {
      "text/plain": [
       "[Text(0.5, 1.0, 'XGB F-1 Score Comparison')]"
      ]
     },
     "execution_count": 86,
     "metadata": {},
     "output_type": "execute_result"
    },
    {
     "data": {
      "image/png": "[encoded data removed]",
      "text/plain": [
       "<Figure size 432x288 with 1 Axes>"
      ]
     },
     "metadata": {
      "needs_background": "light"
     },
     "output_type": "display_data"
    }
   ],
   "source": [
    "sns.barplot(data=f1score_XGB, x=\"Type\", y=\"F-1 Score\", hue=\"Type\").set(title = 'XGB F-1 Score Comparison')"
   ]
  },
  {
   "cell_type": "markdown",
   "id": "e1dd0f1f-fe4c-4165-838c-1a91054edee5",
   "metadata": {},
   "source": [
    "#### Plotting Accuracy Comparisions"
   ]
  },
  {
   "cell_type": "code",
   "execution_count": 87,
   "id": "c7afe974-b6eb-4610-86bf-228a7132e266",
   "metadata": {},
   "outputs": [
    {
     "data": {
      "text/html": [
       "<div>\n",
       "<style scoped>\n",
       "    .dataframe tbody tr th:only-of-type {\n",
       "        vertical-align: middle;\n",
       "    }\n",
       "\n",
       "    .dataframe tbody tr th {\n",
       "        vertical-align: top;\n",
       "    }\n",
       "\n",
       "    .dataframe thead th {\n",
       "        text-align: right;\n",
       "    }\n",
       "</style>\n",
       "<table border=\"1\" class=\"dataframe\">\n",
       "  <thead>\n",
       "    <tr style=\"text-align: right;\">\n",
       "      <th></th>\n",
       "      <th>Accuracy</th>\n",
       "      <th>Type</th>\n",
       "    </tr>\n",
       "  </thead>\n",
       "  <tbody>\n",
       "    <tr>\n",
       "      <th>0</th>\n",
       "      <td>0.699810</td>\n",
       "      <td>Initial</td>\n",
       "    </tr>\n",
       "    <tr>\n",
       "      <th>1</th>\n",
       "      <td>0.699826</td>\n",
       "      <td>Final</td>\n",
       "    </tr>\n",
       "  </tbody>\n",
       "</table>\n",
       "</div>"
      ],
      "text/plain": [
       "   Accuracy     Type\n",
       "0  0.699810  Initial\n",
       "1  0.699826    Final"
      ]
     },
     "execution_count": 87,
     "metadata": {},
     "output_type": "execute_result"
    }
   ],
   "source": [
    "accuracy_XGB = pd.DataFrame([accuracy_XGB_initial,accuracy_XGB_final], columns = [\"Accuracy\"])\n",
    "accuracy_XGB['Type'] = ['Initial' , 'Final']\n",
    "accuracy_XGB"
   ]
  },
  {
   "cell_type": "code",
   "execution_count": 88,
   "id": "d6deccce-67aa-4c8d-87ff-e34e6353bdac",
   "metadata": {},
   "outputs": [
    {
     "data": {
      "text/plain": [
       "[Text(0.5, 1.0, 'XGB Accuracy Comparison')]"
      ]
     },
     "execution_count": 88,
     "metadata": {},
     "output_type": "execute_result"
    },
    {
     "data": {
      "image/png": "[encoded data removed]",
      "text/plain": [
       "<Figure size 432x288 with 1 Axes>"
      ]
     },
     "metadata": {
      "needs_background": "light"
     },
     "output_type": "display_data"
    }
   ],
   "source": [
    "sns.barplot(data=accuracy_XGB, x=\"Type\", y=\"Accuracy\", hue=\"Type\").set(title = 'XGB Accuracy Comparison')"
   ]
  },
  {
   "cell_type": "markdown",
   "id": "e4494edb-a17e-4e21-a946-c469ed94bd6a",
   "metadata": {},
   "source": [
    "#### Plotting the Precision Recall Graph"
   ]
  },
  {
   "cell_type": "code",
   "execution_count": 89,
   "id": "570f071b-65b0-4146-a2da-9e6e78125708",
   "metadata": {},
   "outputs": [],
   "source": [
    "y_prob_xgb = random_search.predict_proba(X_test)[:,1]"
   ]
  },
  {
   "cell_type": "code",
   "execution_count": 90,
   "id": "97248062-123d-4814-813b-245ce5df0a47",
   "metadata": {},
   "outputs": [],
   "source": [
    "precision, recall, _ = precision_recall_curve(Y_test, y_prob_xgb)"
   ]
  },
  {
   "cell_type": "code",
   "execution_count": 91,
   "id": "c442fc6a-480c-433d-9ee4-be82d35f92c8",
   "metadata": {},
   "outputs": [],
   "source": [
    "auc_score = auc(recall, precision)"
   ]
  },
  {
   "cell_type": "code",
   "execution_count": 92,
   "id": "3e958f95-ae30-4b9a-aab8-29b2c636f85f",
   "metadata": {},
   "outputs": [
    {
     "data": {
      "image/png": "[encoded data removed]",
      "text/plain": [
       "<Figure size 432x288 with 1 Axes>"
      ]
     },
     "metadata": {
      "needs_background": "light"
     },
     "output_type": "display_data"
    }
   ],
   "source": [
    "# Plot the precision-recall curve\n",
    "plt.plot(recall, precision, label=f'AUC = {auc_score:.2f}')\n",
    "plt.xlabel('Recall')\n",
    "plt.ylabel('Precision')\n",
    "plt.title('XGB Precision-Recall Curve')\n",
    "plt.legend()\n",
    "plt.show()"
   ]
  },
  {
   "cell_type": "markdown",
   "id": "ea94e532-62cc-4ec8-bc89-73c6b462a824",
   "metadata": {},
   "source": [
    "# Results and Conclusion"
   ]
  },
  {
   "cell_type": "markdown",
   "id": "6e3a55cb-690f-4c79-b6a9-2ca471d41911",
   "metadata": {},
   "source": [
    "## Comparing the F-1 Scores of All Algorithm Used"
   ]
  },
  {
   "cell_type": "code",
   "execution_count": 93,
   "id": "8d39bad8-cfc2-4716-8806-1a055caf3c6e",
   "metadata": {},
   "outputs": [
    {
     "data": {
      "text/plain": [
       "[Text(0.5, 1.0, 'F-1 Score before Hyperparametertuning of all Algorithms')]"
      ]
     },
     "execution_count": 93,
     "metadata": {},
     "output_type": "execute_result"
    },
    {
     "data": {
      "image/png": "[encoded data removed]",
      "text/plain": [
       "<Figure size 432x288 with 1 Axes>"
      ]
     },
     "metadata": {
      "needs_background": "light"
     },
     "output_type": "display_data"
    }
   ],
   "source": [
    "f1_score_initial= pd.DataFrame([f1_score_LR_initial,f1_score_DT_initial,f1_score_XGB_initial], columns = [\"F-1 Score\"])\n",
    "f1_score_initial['Algorithm'] = ['Logistic Regression' , 'Decision Tree', 'XGBoost']\n",
    "f1_score_initial\n",
    "sns.barplot(data=f1_score_initial, x=\"Algorithm\", y=\"F-1 Score\", hue=\"Algorithm\").set(title = 'F-1 Score before Hyperparametertuning of all Algorithms')\n"
   ]
  },
  {
   "cell_type": "code",
   "execution_count": 94,
   "id": "5b71577b-6831-4e14-8702-d7517e21efb8",
   "metadata": {},
   "outputs": [
    {
     "data": {
      "text/html": [
       "<div>\n",
       "<style scoped>\n",
       "    .dataframe tbody tr th:only-of-type {\n",
       "        vertical-align: middle;\n",
       "    }\n",
       "\n",
       "    .dataframe tbody tr th {\n",
       "        vertical-align: top;\n",
       "    }\n",
       "\n",
       "    .dataframe thead th {\n",
       "        text-align: right;\n",
       "    }\n",
       "</style>\n",
       "<table border=\"1\" class=\"dataframe\">\n",
       "  <thead>\n",
       "    <tr style=\"text-align: right;\">\n",
       "      <th></th>\n",
       "      <th>F-1 Score</th>\n",
       "      <th>Algorithm</th>\n",
       "    </tr>\n",
       "  </thead>\n",
       "  <tbody>\n",
       "    <tr>\n",
       "      <th>0</th>\n",
       "      <td>0.823157</td>\n",
       "      <td>Logistic Regression</td>\n",
       "    </tr>\n",
       "    <tr>\n",
       "      <th>1</th>\n",
       "      <td>0.694800</td>\n",
       "      <td>Decision Tree</td>\n",
       "    </tr>\n",
       "    <tr>\n",
       "      <th>2</th>\n",
       "      <td>0.823395</td>\n",
       "      <td>XGBoost</td>\n",
       "    </tr>\n",
       "  </tbody>\n",
       "</table>\n",
       "</div>"
      ],
      "text/plain": [
       "   F-1 Score            Algorithm\n",
       "0   0.823157  Logistic Regression\n",
       "1   0.694800        Decision Tree\n",
       "2   0.823395              XGBoost"
      ]
     },
     "execution_count": 94,
     "metadata": {},
     "output_type": "execute_result"
    }
   ],
   "source": [
    "f1_score_initial"
   ]
  },
  {
   "cell_type": "code",
   "execution_count": 95,
   "id": "207041bc-4ef7-494c-8234-3e65e403d8f5",
   "metadata": {},
   "outputs": [
    {
     "data": {
      "text/plain": [
       "[Text(0.5, 1.0, 'F-1 Score after Hyperparametertuning of all Algorithms')]"
      ]
     },
     "execution_count": 95,
     "metadata": {},
     "output_type": "execute_result"
    },
    {
     "data": {
      "image/png": "[encoded data removed]",
      "text/plain": [
       "<Figure size 432x288 with 1 Axes>"
      ]
     },
     "metadata": {
      "needs_background": "light"
     },
     "output_type": "display_data"
    }
   ],
   "source": [
    "f1_score_final= pd.DataFrame([f1_score_LR_final,f1_score_DT_final,f1_score_XGB_final], columns = [\"F-1 Score\"])\n",
    "f1_score_final['Algorithm'] = ['Logistic Regression' , 'Decision Tree', 'XGBoost']\n",
    "f1_score_final\n",
    "sns.barplot(data=f1_score_final, x=\"Algorithm\", y=\"F-1 Score\", hue=\"Algorithm\").set(title = 'F-1 Score after Hyperparametertuning of all Algorithms')"
   ]
  },
  {
   "cell_type": "code",
   "execution_count": 96,
   "id": "967266bc-2e0b-4360-a467-aa957712d9eb",
   "metadata": {},
   "outputs": [
    {
     "data": {
      "text/html": [
       "<div>\n",
       "<style scoped>\n",
       "    .dataframe tbody tr th:only-of-type {\n",
       "        vertical-align: middle;\n",
       "    }\n",
       "\n",
       "    .dataframe tbody tr th {\n",
       "        vertical-align: top;\n",
       "    }\n",
       "\n",
       "    .dataframe thead th {\n",
       "        text-align: right;\n",
       "    }\n",
       "</style>\n",
       "<table border=\"1\" class=\"dataframe\">\n",
       "  <thead>\n",
       "    <tr style=\"text-align: right;\">\n",
       "      <th></th>\n",
       "      <th>F-1 Score</th>\n",
       "      <th>Algorithm</th>\n",
       "    </tr>\n",
       "  </thead>\n",
       "  <tbody>\n",
       "    <tr>\n",
       "      <th>0</th>\n",
       "      <td>0.823157</td>\n",
       "      <td>Logistic Regression</td>\n",
       "    </tr>\n",
       "    <tr>\n",
       "      <th>1</th>\n",
       "      <td>0.823409</td>\n",
       "      <td>Decision Tree</td>\n",
       "    </tr>\n",
       "    <tr>\n",
       "      <th>2</th>\n",
       "      <td>0.823408</td>\n",
       "      <td>XGBoost</td>\n",
       "    </tr>\n",
       "  </tbody>\n",
       "</table>\n",
       "</div>"
      ],
      "text/plain": [
       "   F-1 Score            Algorithm\n",
       "0   0.823157  Logistic Regression\n",
       "1   0.823409        Decision Tree\n",
       "2   0.823408              XGBoost"
      ]
     },
     "execution_count": 96,
     "metadata": {},
     "output_type": "execute_result"
    }
   ],
   "source": [
    "f1_score_final"
   ]
  },
  {
   "cell_type": "markdown",
   "id": "19e4eb94-6428-46f4-9a77-2439205a1e1c",
   "metadata": {},
   "source": [
    "## Comparing the Accuracy of All Algorithm Used"
   ]
  },
  {
   "cell_type": "code",
   "execution_count": 97,
   "id": "1058bd34-7a7f-4218-aaf3-e2c0e2ca7320",
   "metadata": {},
   "outputs": [
    {
     "data": {
      "text/plain": [
       "[Text(0.5, 1.0, 'Accuracy before Hyperparametertuning of all Algorithms')]"
      ]
     },
     "execution_count": 97,
     "metadata": {},
     "output_type": "execute_result"
    },
    {
     "data": {
      "image/png": "[encoded data removed]",
      "text/plain": [
       "<Figure size 432x288 with 1 Axes>"
      ]
     },
     "metadata": {
      "needs_background": "light"
     },
     "output_type": "display_data"
    }
   ],
   "source": [
    "accuracy_initial= pd.DataFrame([f1_score_LR_initial,f1_score_DT_initial,f1_score_XGB_initial], columns = [\"Accuracy\"])\n",
    "accuracy_initial['Algorithm'] = ['Logistic Regression' , 'Decision Tree', 'XGBoost']\n",
    "accuracy_initial\n",
    "sns.barplot(data=accuracy_initial, x=\"Algorithm\", y=\"Accuracy\", hue=\"Algorithm\").set(title = 'Accuracy before Hyperparametertuning of all Algorithms')"
   ]
  },
  {
   "cell_type": "code",
   "execution_count": 98,
   "id": "1281b36d-110f-4777-ae07-91b465a0a35f",
   "metadata": {},
   "outputs": [
    {
     "data": {
      "text/html": [
       "<div>\n",
       "<style scoped>\n",
       "    .dataframe tbody tr th:only-of-type {\n",
       "        vertical-align: middle;\n",
       "    }\n",
       "\n",
       "    .dataframe tbody tr th {\n",
       "        vertical-align: top;\n",
       "    }\n",
       "\n",
       "    .dataframe thead th {\n",
       "        text-align: right;\n",
       "    }\n",
       "</style>\n",
       "<table border=\"1\" class=\"dataframe\">\n",
       "  <thead>\n",
       "    <tr style=\"text-align: right;\">\n",
       "      <th></th>\n",
       "      <th>Accuracy</th>\n",
       "      <th>Algorithm</th>\n",
       "    </tr>\n",
       "  </thead>\n",
       "  <tbody>\n",
       "    <tr>\n",
       "      <th>0</th>\n",
       "      <td>0.823157</td>\n",
       "      <td>Logistic Regression</td>\n",
       "    </tr>\n",
       "    <tr>\n",
       "      <th>1</th>\n",
       "      <td>0.694800</td>\n",
       "      <td>Decision Tree</td>\n",
       "    </tr>\n",
       "    <tr>\n",
       "      <th>2</th>\n",
       "      <td>0.823395</td>\n",
       "      <td>XGBoost</td>\n",
       "    </tr>\n",
       "  </tbody>\n",
       "</table>\n",
       "</div>"
      ],
      "text/plain": [
       "   Accuracy            Algorithm\n",
       "0  0.823157  Logistic Regression\n",
       "1  0.694800        Decision Tree\n",
       "2  0.823395              XGBoost"
      ]
     },
     "execution_count": 98,
     "metadata": {},
     "output_type": "execute_result"
    }
   ],
   "source": [
    "accuracy_initial"
   ]
  },
  {
   "cell_type": "code",
   "execution_count": 99,
   "id": "6b4670b6-725f-4250-8326-02612a25fb77",
   "metadata": {},
   "outputs": [
    {
     "data": {
      "text/plain": [
       "[Text(0.5, 1.0, 'Accuracy after Hyperparametertuning of all Algorithms')]"
      ]
     },
     "execution_count": 99,
     "metadata": {},
     "output_type": "execute_result"
    },
    {
     "data": {
      "image/png": "[encoded data removed]",
      "text/plain": [
       "<Figure size 432x288 with 1 Axes>"
      ]
     },
     "metadata": {
      "needs_background": "light"
     },
     "output_type": "display_data"
    }
   ],
   "source": [
    "accuracy_final= pd.DataFrame([f1_score_LR_final,f1_score_DT_final,f1_score_XGB_final], columns = [\"Accuracy\"])\n",
    "accuracy_final['Algorithm'] = ['Logistic Regression' , 'Decision Tree', 'XGBoost']\n",
    "accuracy_final\n",
    "sns.barplot(data=accuracy_final, x=\"Algorithm\", y=\"Accuracy\", hue=\"Algorithm\").set(title = 'Accuracy after Hyperparametertuning of all Algorithms')"
   ]
  },
  {
   "cell_type": "code",
   "execution_count": 100,
   "id": "94c7b41b-fd75-417f-95ae-3e906f4c17ee",
   "metadata": {},
   "outputs": [
    {
     "data": {
      "text/html": [
       "<div>\n",
       "<style scoped>\n",
       "    .dataframe tbody tr th:only-of-type {\n",
       "        vertical-align: middle;\n",
       "    }\n",
       "\n",
       "    .dataframe tbody tr th {\n",
       "        vertical-align: top;\n",
       "    }\n",
       "\n",
       "    .dataframe thead th {\n",
       "        text-align: right;\n",
       "    }\n",
       "</style>\n",
       "<table border=\"1\" class=\"dataframe\">\n",
       "  <thead>\n",
       "    <tr style=\"text-align: right;\">\n",
       "      <th></th>\n",
       "      <th>Accuracy</th>\n",
       "      <th>Algorithm</th>\n",
       "    </tr>\n",
       "  </thead>\n",
       "  <tbody>\n",
       "    <tr>\n",
       "      <th>0</th>\n",
       "      <td>0.823157</td>\n",
       "      <td>Logistic Regression</td>\n",
       "    </tr>\n",
       "    <tr>\n",
       "      <th>1</th>\n",
       "      <td>0.823409</td>\n",
       "      <td>Decision Tree</td>\n",
       "    </tr>\n",
       "    <tr>\n",
       "      <th>2</th>\n",
       "      <td>0.823408</td>\n",
       "      <td>XGBoost</td>\n",
       "    </tr>\n",
       "  </tbody>\n",
       "</table>\n",
       "</div>"
      ],
      "text/plain": [
       "   Accuracy            Algorithm\n",
       "0  0.823157  Logistic Regression\n",
       "1  0.823409        Decision Tree\n",
       "2  0.823408              XGBoost"
      ]
     },
     "execution_count": 100,
     "metadata": {},
     "output_type": "execute_result"
    },
    {
     "name": "stdout",
     "output_type": "stream",
     "text": [
      "[CV 2/3] END colsample_bytree=0.4, gamma=0.2, learning_rate=0.3, max_depth=15, min_child_weight=1;, score=0.501 total time= 9.1min\n",
      "[CV 3/3] END colsample_bytree=0.4, gamma=0.2, learning_rate=0.3, max_depth=15, min_child_weight=1;, score=0.500 total time= 9.1min\n",
      "[CV 1/3] END colsample_bytree=0.4, gamma=0.2, learning_rate=0.3, max_depth=15, min_child_weight=1;, score=0.501 total time= 9.1min\n",
      "[CV 3/3] END colsample_bytree=0.5, gamma=0.4, learning_rate=0.2, max_depth=3, min_child_weight=7;, score=0.500 total time= 2.9min\n",
      "[CV 1/3] END colsample_bytree=0.7, gamma=0.3, learning_rate=0.3, max_depth=8, min_child_weight=3;, score=0.500 total time= 6.8min\n",
      "[CV 2/3] END colsample_bytree=0.4, gamma=0.0, learning_rate=0.25, max_depth=3, min_child_weight=1;, score=0.500 total time= 2.4min\n",
      "[CV 3/3] END colsample_bytree=0.4, gamma=0.0, learning_rate=0.25, max_depth=3, min_child_weight=1;, score=0.500 total time= 2.2min\n",
      "[CV 2/3] END colsample_bytree=0.7, gamma=0.3, learning_rate=0.3, max_depth=8, min_child_weight=3;, score=0.501 total time= 5.9min\n",
      "[CV 1/3] END colsample_bytree=0.4, gamma=0.0, learning_rate=0.25, max_depth=3, min_child_weight=1;, score=0.499 total time= 2.4min\n",
      "[CV 1/3] END colsample_bytree=0.3, gamma=0.4, learning_rate=0.1, max_depth=6, min_child_weight=7;, score=0.499 total time= 2.6min\n",
      "[CV 3/3] END colsample_bytree=0.7, gamma=0.3, learning_rate=0.3, max_depth=8, min_child_weight=3;, score=0.500 total time= 5.6min\n"
     ]
    }
   ],
   "source": [
    "accuracy_final"
   ]
  }
 ],
 "metadata": {
  "kernelspec": {
   "display_name": "Python 3 (ipykernel)",
   "language": "python",
   "name": "python3"
  },
  "language_info": {
   "codemirror_mode": {
    "name": "ipython",
    "version": 3
   },
   "file_extension": ".py",
   "mimetype": "text/x-python",
   "name": "python",
   "nbconvert_exporter": "python",
   "pygments_lexer": "ipython3",
   "version": "3.11.4"
  }
 },
 "nbformat": 4,
 "nbformat_minor": 5
}
